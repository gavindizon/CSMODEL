{
 "cells": [
  {
   "cell_type": "markdown",
   "source": [
    "# Project 1 - Statistical Inference (DIZON, TANG, TEE)\n",
    "In this notebook, we will be exploring on the data from **MyAnimeList** which consists of anime-related data. We will be focusing on analyzing statistical-related inferences.\n",
    "\n",
    "## numpy, pandas, and matplotlib\n",
    "To start, we will be first importing the libraries that will be used to help us analyze the given data. The following libraries will be used:\n",
    "\n",
    "1.   **Numpy**\n",
    "2.   **Pandas**\n",
    "3.  **Matplotlib**\n",
    "4. **SciPy**\n"
   ],
   "metadata": {}
  },
  {
   "cell_type": "code",
   "execution_count": 2,
   "source": [
    "import numpy as np\n",
    "import pandas as pd \n",
    "import matplotlib.pyplot as plt\n",
    "import scipy.stats as sp\n"
   ],
   "outputs": [],
   "metadata": {}
  },
  {
   "cell_type": "markdown",
   "source": [
    "## The Dataset\n",
    "Next, we will be moving on to importing anime_list csv file. This will be the dataset that we will be working on. It contains over 23 variables (columns) and 18,162 observations (rows). Some of the variables will be ommitted from what we will be analyzing."
   ],
   "metadata": {}
  },
  {
   "cell_type": "code",
   "execution_count": 3,
   "source": [
    "df = pd.read_csv('https://raw.githubusercontent.com/gavindizon/CSMODEL/main/Project%201%20-%20Statistical%20Inference/csv/anime_list.csv')\n",
    "df.info()"
   ],
   "outputs": [
    {
     "output_type": "stream",
     "name": "stdout",
     "text": [
      "<class 'pandas.core.frame.DataFrame'>\n",
      "RangeIndex: 18162 entries, 0 to 18161\n",
      "Data columns (total 23 columns):\n",
      " #   Column      Non-Null Count  Dtype  \n",
      "---  ------      --------------  -----  \n",
      " 0   mal_id      18162 non-null  int64  \n",
      " 1   title       18162 non-null  object \n",
      " 2   synopsis    18162 non-null  object \n",
      " 3   background  18162 non-null  object \n",
      " 4   aired       18162 non-null  object \n",
      " 5   airing      18162 non-null  int64  \n",
      " 6   duration    18162 non-null  object \n",
      " 7   episodes    18162 non-null  int64  \n",
      " 8   type        18162 non-null  object \n",
      " 9   favorites   18162 non-null  int64  \n",
      " 10  members     18162 non-null  int64  \n",
      " 11  rank        18162 non-null  float64\n",
      " 12  popularity  18162 non-null  int64  \n",
      " 13  score       18162 non-null  float64\n",
      " 14  scored_by   18162 non-null  int64  \n",
      " 15  rating      18162 non-null  object \n",
      " 16  premiered   18162 non-null  object \n",
      " 17  genres      18095 non-null  object \n",
      " 18  related     18162 non-null  object \n",
      " 19  status      18162 non-null  object \n",
      " 20  licensors   18162 non-null  object \n",
      " 21  producers   18162 non-null  object \n",
      " 22  studios     18162 non-null  object \n",
      "dtypes: float64(2), int64(7), object(14)\n",
      "memory usage: 3.2+ MB\n"
     ]
    }
   ],
   "metadata": {}
  },
  {
   "cell_type": "markdown",
   "source": [
    "## Data Cleaning\n",
    "\n",
    "Before analyzing the data, we will first clean the data. Here, we will remove the uneeded variables and variables with null values. Although, some of the variables that have null values but with the proper context (e.g. Not Applicable) will be represented with a uniform sentinel value (`-` for an object/ string and `-1` for a number) instead of removing the whole column.\n",
    "\n",
    "In addition, since our analysis will be focusing on `TV` and `Movie` types we will be removing other types of Anime such as `OVA` and `ONA`."
   ],
   "metadata": {}
  },
  {
   "cell_type": "code",
   "execution_count": 4,
   "source": [
    "df_cleaned = df.drop(['background', 'mal_id', 'synopsis', 'related'], 1)\n",
    "#Convert raw data types to their necessary datatypes\n",
    "df_cleaned['rank'] = df_cleaned['rank'].astype(int)\n",
    "df_cleaned = df_cleaned.dropna(subset= ['genres'], how= 'any')\n",
    "\n",
    "#Remove unnecessary part of dataset\n",
    "df_cleaned = df_cleaned[(df_cleaned['type'] == 'TV') | (df_cleaned['type'] == 'Movie')]\n",
    "#OVA, ONA\n",
    "\n",
    "df_cleaned = df_cleaned.reset_index()"
   ],
   "outputs": [],
   "metadata": {}
  },
  {
   "cell_type": "markdown",
   "source": [
    "### Checking for Possible Duplicates\n",
    "\n",
    "Another thing that we could do is to check for possible duplicates, and we either merge these together or drop the others from the dataset depending on the context. In this dataset, there is one duplicate title found which is `Maou Gakuin no Futekigousha: Shijou Saikyou no Maou no Shiso, Tensei shite Shison-tachi no Gakkou e`. In the case of the duplicate, it can be seen below that one observation mostly consists of sentinel values. This just means that this observation is merely a duplicate thus we only need to remove it."
   ],
   "metadata": {}
  },
  {
   "cell_type": "code",
   "execution_count": 5,
   "source": [
    "df_cleaned['title'].value_counts()"
   ],
   "outputs": [
    {
     "output_type": "execute_result",
     "data": {
      "text/plain": [
       "Maou Gakuin no Futekigousha: Shijou Saikyou no Maou no Shiso, Tensei shite Shison-tachi no Gakkou e    2\n",
       "Initial D First Stage                                                                                  1\n",
       "Hakken Taiken Daisuki! Shimajirou                                                                      1\n",
       "Shakunetsu Kabaddi                                                                                     1\n",
       "San Ge Heshang                                                                                         1\n",
       "                                                                                                      ..\n",
       "Overlord Movie: Manner Movie                                                                           1\n",
       "Leonardo Hakase to Kirin-mura no Nakama-tachi (TV)                                                     1\n",
       "Mahou Shoujo Tokushusen Asuka                                                                          1\n",
       "Biriken Nandemo Shoukai                                                                                1\n",
       "Pokopon no Yukai na Saiyuuki                                                                           1\n",
       "Name: title, Length: 8342, dtype: int64"
      ]
     },
     "metadata": {},
     "execution_count": 5
    }
   ],
   "metadata": {}
  },
  {
   "cell_type": "code",
   "execution_count": 6,
   "source": [
    "df_cleaned.loc[df_cleaned['title'] == 'Maou Gakuin no Futekigousha: Shijou Saikyou no Maou no Shiso, Tensei shite Shison-tachi no Gakkou e' ]"
   ],
   "outputs": [
    {
     "output_type": "execute_result",
     "data": {
      "text/plain": [
       "      index                                              title  \\\n",
       "7470  16175  Maou Gakuin no Futekigousha: Shijou Saikyou no...   \n",
       "8269  17966  Maou Gakuin no Futekigousha: Shijou Saikyou no...   \n",
       "\n",
       "                            aired  airing       duration  episodes type  \\\n",
       "7470  Jul 4, 2020 to Sep 26, 2020       0  23 min per ep        13   TV   \n",
       "8269                Not available       0        Unknown        -1   TV   \n",
       "\n",
       "      favorites  members  rank  popularity  score  scored_by  \\\n",
       "7470       3066   437602  2188         343   7.34     245721   \n",
       "8269        100    18366    -1        3980  -1.00         -1   \n",
       "\n",
       "                              rating    premiered  \\\n",
       "7470  R - 17+ (violence & profanity)  Summer 2020   \n",
       "8269  R - 17+ (violence & profanity)            -   \n",
       "\n",
       "                                      genres           status  \\\n",
       "7470  Action, Demons, Magic, Fantasy, School  Finished Airing   \n",
       "8269  Action, Demons, Magic, Fantasy, School    Not yet aired   \n",
       "\n",
       "               licensors          producers       studios  \n",
       "7470  Aniplex of America  Aniplex, Kadokawa  SILVER LINK.  \n",
       "8269                   -            Aniplex  SILVER LINK.  "
      ],
      "text/html": [
       "<div>\n",
       "<style scoped>\n",
       "    .dataframe tbody tr th:only-of-type {\n",
       "        vertical-align: middle;\n",
       "    }\n",
       "\n",
       "    .dataframe tbody tr th {\n",
       "        vertical-align: top;\n",
       "    }\n",
       "\n",
       "    .dataframe thead th {\n",
       "        text-align: right;\n",
       "    }\n",
       "</style>\n",
       "<table border=\"1\" class=\"dataframe\">\n",
       "  <thead>\n",
       "    <tr style=\"text-align: right;\">\n",
       "      <th></th>\n",
       "      <th>index</th>\n",
       "      <th>title</th>\n",
       "      <th>aired</th>\n",
       "      <th>airing</th>\n",
       "      <th>duration</th>\n",
       "      <th>episodes</th>\n",
       "      <th>type</th>\n",
       "      <th>favorites</th>\n",
       "      <th>members</th>\n",
       "      <th>rank</th>\n",
       "      <th>popularity</th>\n",
       "      <th>score</th>\n",
       "      <th>scored_by</th>\n",
       "      <th>rating</th>\n",
       "      <th>premiered</th>\n",
       "      <th>genres</th>\n",
       "      <th>status</th>\n",
       "      <th>licensors</th>\n",
       "      <th>producers</th>\n",
       "      <th>studios</th>\n",
       "    </tr>\n",
       "  </thead>\n",
       "  <tbody>\n",
       "    <tr>\n",
       "      <th>7470</th>\n",
       "      <td>16175</td>\n",
       "      <td>Maou Gakuin no Futekigousha: Shijou Saikyou no...</td>\n",
       "      <td>Jul 4, 2020 to Sep 26, 2020</td>\n",
       "      <td>0</td>\n",
       "      <td>23 min per ep</td>\n",
       "      <td>13</td>\n",
       "      <td>TV</td>\n",
       "      <td>3066</td>\n",
       "      <td>437602</td>\n",
       "      <td>2188</td>\n",
       "      <td>343</td>\n",
       "      <td>7.34</td>\n",
       "      <td>245721</td>\n",
       "      <td>R - 17+ (violence &amp; profanity)</td>\n",
       "      <td>Summer 2020</td>\n",
       "      <td>Action, Demons, Magic, Fantasy, School</td>\n",
       "      <td>Finished Airing</td>\n",
       "      <td>Aniplex of America</td>\n",
       "      <td>Aniplex, Kadokawa</td>\n",
       "      <td>SILVER LINK.</td>\n",
       "    </tr>\n",
       "    <tr>\n",
       "      <th>8269</th>\n",
       "      <td>17966</td>\n",
       "      <td>Maou Gakuin no Futekigousha: Shijou Saikyou no...</td>\n",
       "      <td>Not available</td>\n",
       "      <td>0</td>\n",
       "      <td>Unknown</td>\n",
       "      <td>-1</td>\n",
       "      <td>TV</td>\n",
       "      <td>100</td>\n",
       "      <td>18366</td>\n",
       "      <td>-1</td>\n",
       "      <td>3980</td>\n",
       "      <td>-1.00</td>\n",
       "      <td>-1</td>\n",
       "      <td>R - 17+ (violence &amp; profanity)</td>\n",
       "      <td>-</td>\n",
       "      <td>Action, Demons, Magic, Fantasy, School</td>\n",
       "      <td>Not yet aired</td>\n",
       "      <td>-</td>\n",
       "      <td>Aniplex</td>\n",
       "      <td>SILVER LINK.</td>\n",
       "    </tr>\n",
       "  </tbody>\n",
       "</table>\n",
       "</div>"
      ]
     },
     "metadata": {},
     "execution_count": 6
    }
   ],
   "metadata": {}
  },
  {
   "cell_type": "code",
   "execution_count": 7,
   "source": [
    "df_cleaned = df_cleaned.drop(df_cleaned.index[8269])\n",
    "df_cleaned = df_cleaned.reset_index()\n",
    "df_cleaned.info()"
   ],
   "outputs": [
    {
     "output_type": "stream",
     "name": "stdout",
     "text": [
      "<class 'pandas.core.frame.DataFrame'>\n",
      "RangeIndex: 8342 entries, 0 to 8341\n",
      "Data columns (total 21 columns):\n",
      " #   Column      Non-Null Count  Dtype  \n",
      "---  ------      --------------  -----  \n",
      " 0   level_0     8342 non-null   int64  \n",
      " 1   index       8342 non-null   int64  \n",
      " 2   title       8342 non-null   object \n",
      " 3   aired       8342 non-null   object \n",
      " 4   airing      8342 non-null   int64  \n",
      " 5   duration    8342 non-null   object \n",
      " 6   episodes    8342 non-null   int64  \n",
      " 7   type        8342 non-null   object \n",
      " 8   favorites   8342 non-null   int64  \n",
      " 9   members     8342 non-null   int64  \n",
      " 10  rank        8342 non-null   int64  \n",
      " 11  popularity  8342 non-null   int64  \n",
      " 12  score       8342 non-null   float64\n",
      " 13  scored_by   8342 non-null   int64  \n",
      " 14  rating      8342 non-null   object \n",
      " 15  premiered   8342 non-null   object \n",
      " 16  genres      8342 non-null   object \n",
      " 17  status      8342 non-null   object \n",
      " 18  licensors   8342 non-null   object \n",
      " 19  producers   8342 non-null   object \n",
      " 20  studios     8342 non-null   object \n",
      "dtypes: float64(1), int64(9), object(11)\n",
      "memory usage: 1.3+ MB\n"
     ]
    }
   ],
   "metadata": {}
  },
  {
   "cell_type": "code",
   "execution_count": 8,
   "source": [
    "df_cleaned['rating'].unique()"
   ],
   "outputs": [
    {
     "output_type": "execute_result",
     "data": {
      "text/plain": [
       "array(['R - 17+ (violence & profanity)', 'PG-13 - Teens 13 or older',\n",
       "       'PG - Children', 'R+ - Mild Nudity', 'G - All Ages', 'None',\n",
       "       'Rx - Hentai'], dtype=object)"
      ]
     },
     "metadata": {},
     "execution_count": 8
    }
   ],
   "metadata": {}
  },
  {
   "cell_type": "markdown",
   "source": [
    "## Exploratory Data Analysis\n",
    "\n",
    "After the data was cleaned, we proceed now to analyzing it. Since the dataset was created for a recommendation system, we will be exploring possible correlations between the presented variables. Primarily, we will be focusing on three things which are the ff:\n",
    "\n",
    "1. Do the score significantly differ dependeing on the age_group (`rating`)? \n",
    "2. Is there a correlation between the number of favorites of an anime to it's score?\n",
    "3. Do the number of episodes in anime affect how popular it is?"
   ],
   "metadata": {}
  },
  {
   "cell_type": "markdown",
   "source": [
    "# 1. Do the score significantly differ dependeing on the age_group (`rating`)? \n",
    "\n",
    "To start, we will be exploring the correlation between the rating and the score. In the data given, there are 7 kinds of rating. \n",
    "- None\n",
    "- G - All Ages\n",
    "- PG - Children\n",
    "- PG - Teens 13 or older\n",
    "- R - 17+ (violence & profanity)\n",
    "- R+ - Mild Nudity\n",
    "- Rx - Hentai\n",
    "\n",
    "## Further Data Preprocessing\n",
    "\n",
    "We will be excluding the `None` type of rating in this analysis since we would be exploring only the rated types. Likewise, we will be grouping the observations based on their ratings."
   ],
   "metadata": {}
  },
  {
   "cell_type": "code",
   "execution_count": 9,
   "source": [
    "#creates a dataframe that excludes the None Rating Type and Sentinel Value Rows from score\n",
    "df_eda1 = df_cleaned.loc[(df_cleaned['rating'] != 'None') & (df_cleaned['score'] > -1.0)]\n",
    "\n",
    "\n",
    "df_eda1.info()\n"
   ],
   "outputs": [
    {
     "output_type": "stream",
     "name": "stdout",
     "text": [
      "<class 'pandas.core.frame.DataFrame'>\n",
      "Int64Index: 5935 entries, 0 to 8161\n",
      "Data columns (total 21 columns):\n",
      " #   Column      Non-Null Count  Dtype  \n",
      "---  ------      --------------  -----  \n",
      " 0   level_0     5935 non-null   int64  \n",
      " 1   index       5935 non-null   int64  \n",
      " 2   title       5935 non-null   object \n",
      " 3   aired       5935 non-null   object \n",
      " 4   airing      5935 non-null   int64  \n",
      " 5   duration    5935 non-null   object \n",
      " 6   episodes    5935 non-null   int64  \n",
      " 7   type        5935 non-null   object \n",
      " 8   favorites   5935 non-null   int64  \n",
      " 9   members     5935 non-null   int64  \n",
      " 10  rank        5935 non-null   int64  \n",
      " 11  popularity  5935 non-null   int64  \n",
      " 12  score       5935 non-null   float64\n",
      " 13  scored_by   5935 non-null   int64  \n",
      " 14  rating      5935 non-null   object \n",
      " 15  premiered   5935 non-null   object \n",
      " 16  genres      5935 non-null   object \n",
      " 17  status      5935 non-null   object \n",
      " 18  licensors   5935 non-null   object \n",
      " 19  producers   5935 non-null   object \n",
      " 20  studios     5935 non-null   object \n",
      "dtypes: float64(1), int64(9), object(11)\n",
      "memory usage: 1020.1+ KB\n"
     ]
    }
   ],
   "metadata": {}
  },
  {
   "cell_type": "markdown",
   "source": [
    "## Numerical Summaries\n",
    "\n",
    "Here, we will be looking for the measure of central tendencies, dispersion, and possible correlation between the rating and the score."
   ],
   "metadata": {}
  },
  {
   "cell_type": "code",
   "execution_count": 10,
   "source": [
    "df_eda1_num = df_eda1.groupby('rating').agg({'score': [\"mean\", \"median\", \"std\", lambda x:x.value_counts().index[0]]})\n",
    "df_eda1_num.rename(columns={'<lambda_0>': 'mode'}, inplace=True)\n",
    "df_eda1_num"
   ],
   "outputs": [
    {
     "output_type": "execute_result",
     "data": {
      "text/plain": [
       "                                   score                       \n",
       "                                    mean median       std  mode\n",
       "rating                                                         \n",
       "G - All Ages                    6.198567  6.230  0.857516  6.68\n",
       "PG - Children                   6.566311  6.600  0.676875  6.39\n",
       "PG-13 - Teens 13 or older       6.952306  7.020  0.827165  7.04\n",
       "R - 17+ (violence & profanity)  7.237803  7.330  0.860957  7.26\n",
       "R+ - Mild Nudity                6.522184  6.635  1.039909  6.44\n",
       "Rx - Hentai                     5.725000  5.760  0.941483  5.91"
      ],
      "text/html": [
       "<div>\n",
       "<style scoped>\n",
       "    .dataframe tbody tr th:only-of-type {\n",
       "        vertical-align: middle;\n",
       "    }\n",
       "\n",
       "    .dataframe tbody tr th {\n",
       "        vertical-align: top;\n",
       "    }\n",
       "\n",
       "    .dataframe thead tr th {\n",
       "        text-align: left;\n",
       "    }\n",
       "\n",
       "    .dataframe thead tr:last-of-type th {\n",
       "        text-align: right;\n",
       "    }\n",
       "</style>\n",
       "<table border=\"1\" class=\"dataframe\">\n",
       "  <thead>\n",
       "    <tr>\n",
       "      <th></th>\n",
       "      <th colspan=\"4\" halign=\"left\">score</th>\n",
       "    </tr>\n",
       "    <tr>\n",
       "      <th></th>\n",
       "      <th>mean</th>\n",
       "      <th>median</th>\n",
       "      <th>std</th>\n",
       "      <th>mode</th>\n",
       "    </tr>\n",
       "    <tr>\n",
       "      <th>rating</th>\n",
       "      <th></th>\n",
       "      <th></th>\n",
       "      <th></th>\n",
       "      <th></th>\n",
       "    </tr>\n",
       "  </thead>\n",
       "  <tbody>\n",
       "    <tr>\n",
       "      <th>G - All Ages</th>\n",
       "      <td>6.198567</td>\n",
       "      <td>6.230</td>\n",
       "      <td>0.857516</td>\n",
       "      <td>6.68</td>\n",
       "    </tr>\n",
       "    <tr>\n",
       "      <th>PG - Children</th>\n",
       "      <td>6.566311</td>\n",
       "      <td>6.600</td>\n",
       "      <td>0.676875</td>\n",
       "      <td>6.39</td>\n",
       "    </tr>\n",
       "    <tr>\n",
       "      <th>PG-13 - Teens 13 or older</th>\n",
       "      <td>6.952306</td>\n",
       "      <td>7.020</td>\n",
       "      <td>0.827165</td>\n",
       "      <td>7.04</td>\n",
       "    </tr>\n",
       "    <tr>\n",
       "      <th>R - 17+ (violence &amp; profanity)</th>\n",
       "      <td>7.237803</td>\n",
       "      <td>7.330</td>\n",
       "      <td>0.860957</td>\n",
       "      <td>7.26</td>\n",
       "    </tr>\n",
       "    <tr>\n",
       "      <th>R+ - Mild Nudity</th>\n",
       "      <td>6.522184</td>\n",
       "      <td>6.635</td>\n",
       "      <td>1.039909</td>\n",
       "      <td>6.44</td>\n",
       "    </tr>\n",
       "    <tr>\n",
       "      <th>Rx - Hentai</th>\n",
       "      <td>5.725000</td>\n",
       "      <td>5.760</td>\n",
       "      <td>0.941483</td>\n",
       "      <td>5.91</td>\n",
       "    </tr>\n",
       "  </tbody>\n",
       "</table>\n",
       "</div>"
      ]
     },
     "metadata": {},
     "execution_count": 10
    }
   ],
   "metadata": {}
  },
  {
   "cell_type": "markdown",
   "source": [
    "To check for the possible correlation between the rating and the average score, we will be representing the ratings through a numerical value with `0` being the lowest which will be represented by the `G - All Ages` and `5` being the highest which will be represented by `Rx - Hentai`"
   ],
   "metadata": {}
  },
  {
   "cell_type": "code",
   "execution_count": 11,
   "source": [
    "df_eda1corr = (df_eda1_num.reset_index()).rename(columns={'': 'rating'}).reset_index().rename(columns={'': \"num_value\"})\n",
    "\n",
    "df_eda1corr['index']['num_value'].corr(df_eda1corr['score']['mean'])"
   ],
   "outputs": [
    {
     "output_type": "execute_result",
     "data": {
      "text/plain": [
       "-0.2207063311724617"
      ]
     },
     "metadata": {},
     "execution_count": 11
    }
   ],
   "metadata": {}
  },
  {
   "cell_type": "markdown",
   "source": [
    "### Observation\n",
    "\n",
    "It can be seen that there is a negatively very weak correlation between the rating and the scores. This means that there is a very weak relationship where in as the rating is intended for higher-aged audience the more the score will dip.\n",
    "\n",
    "## Visualization"
   ],
   "metadata": {}
  },
  {
   "cell_type": "code",
   "execution_count": 12,
   "source": [
    "df_eda1_viz = df_eda1corr\n",
    "df_eda1_viz.columns = df_eda1corr.columns.droplevel()\n",
    "\n",
    "viz_eda1 = df_eda1_viz.plot.bar(figsize=(12,6), x='rating', y='mean')\n",
    "viz_eda1.set_title(\"Average Score per Rating\")\n",
    "viz_eda1.set_ylabel('Scores')\n",
    "plt.show()\n"
   ],
   "outputs": [
    {
     "output_type": "display_data",
     "data": {
      "text/plain": [
       "<Figure size 864x432 with 1 Axes>"
      ],
      "image/png": "[encoded data removed]"
     },
     "metadata": {
      "needs_background": "light"
     }
    }
   ],
   "metadata": {}
  },
  {
   "cell_type": "markdown",
   "source": [
    "### Observation\n",
    "It can be seen that the rating with the highest average in terms of score is the `R-17+ (Violence & Profanity)` rating attaining `7.23`. It was then followed by `PG-13 - Teens 13 or older` and `PG-Children` attaining an average of `6.95` and `6.59` respectively. The lowest scored ratings are `Rx - Hentai`, `R+ - Mild Nudity`, and `G - All Ages` which got `5.73`, `6.20`, and `6.52` respectively."
   ],
   "metadata": {}
  },
  {
   "cell_type": "markdown",
   "source": [
    "# 2. Is there a correlation between the number of favorites of an anime to its score?\n",
    "\n",
    "The next EDA that we want to analyze whether there is a possible correlation between the number of times an anime is favorited with regards to the score.\n",
    "\n",
    "## Further Data Preprocessing\n",
    "\n",
    "For that, we first check whether there are null/ sentinel values for the columns of `score` and `favorites`.\n"
   ],
   "metadata": {}
  },
  {
   "cell_type": "code",
   "execution_count": 13,
   "source": [
    "df_eda2 = df_cleaned[['score', 'favorites']]\n",
    "df_eda2"
   ],
   "outputs": [
    {
     "output_type": "execute_result",
     "data": {
      "text/plain": [
       "      score  favorites\n",
       "0      8.77      59968\n",
       "1      8.39       1063\n",
       "2      8.23      11882\n",
       "3      7.27        512\n",
       "4      6.97         10\n",
       "...     ...        ...\n",
       "8337  -1.00         22\n",
       "8338  -1.00        611\n",
       "8339  -1.00          1\n",
       "8340  -1.00          0\n",
       "8341  -1.00          0\n",
       "\n",
       "[8342 rows x 2 columns]"
      ],
      "text/html": [
       "<div>\n",
       "<style scoped>\n",
       "    .dataframe tbody tr th:only-of-type {\n",
       "        vertical-align: middle;\n",
       "    }\n",
       "\n",
       "    .dataframe tbody tr th {\n",
       "        vertical-align: top;\n",
       "    }\n",
       "\n",
       "    .dataframe thead th {\n",
       "        text-align: right;\n",
       "    }\n",
       "</style>\n",
       "<table border=\"1\" class=\"dataframe\">\n",
       "  <thead>\n",
       "    <tr style=\"text-align: right;\">\n",
       "      <th></th>\n",
       "      <th>score</th>\n",
       "      <th>favorites</th>\n",
       "    </tr>\n",
       "  </thead>\n",
       "  <tbody>\n",
       "    <tr>\n",
       "      <th>0</th>\n",
       "      <td>8.77</td>\n",
       "      <td>59968</td>\n",
       "    </tr>\n",
       "    <tr>\n",
       "      <th>1</th>\n",
       "      <td>8.39</td>\n",
       "      <td>1063</td>\n",
       "    </tr>\n",
       "    <tr>\n",
       "      <th>2</th>\n",
       "      <td>8.23</td>\n",
       "      <td>11882</td>\n",
       "    </tr>\n",
       "    <tr>\n",
       "      <th>3</th>\n",
       "      <td>7.27</td>\n",
       "      <td>512</td>\n",
       "    </tr>\n",
       "    <tr>\n",
       "      <th>4</th>\n",
       "      <td>6.97</td>\n",
       "      <td>10</td>\n",
       "    </tr>\n",
       "    <tr>\n",
       "      <th>...</th>\n",
       "      <td>...</td>\n",
       "      <td>...</td>\n",
       "    </tr>\n",
       "    <tr>\n",
       "      <th>8337</th>\n",
       "      <td>-1.00</td>\n",
       "      <td>22</td>\n",
       "    </tr>\n",
       "    <tr>\n",
       "      <th>8338</th>\n",
       "      <td>-1.00</td>\n",
       "      <td>611</td>\n",
       "    </tr>\n",
       "    <tr>\n",
       "      <th>8339</th>\n",
       "      <td>-1.00</td>\n",
       "      <td>1</td>\n",
       "    </tr>\n",
       "    <tr>\n",
       "      <th>8340</th>\n",
       "      <td>-1.00</td>\n",
       "      <td>0</td>\n",
       "    </tr>\n",
       "    <tr>\n",
       "      <th>8341</th>\n",
       "      <td>-1.00</td>\n",
       "      <td>0</td>\n",
       "    </tr>\n",
       "  </tbody>\n",
       "</table>\n",
       "<p>8342 rows × 2 columns</p>\n",
       "</div>"
      ]
     },
     "metadata": {},
     "execution_count": 13
    }
   ],
   "metadata": {}
  },
  {
   "cell_type": "code",
   "execution_count": 14,
   "source": [
    "df_eda2 = df_eda2.drop(df_eda2[df_eda2['score'] == -1.00].index)\n",
    "df_eda2 = df_eda2.drop(df_eda2[df_eda2['favorites'] == 0].index)\n",
    "df_eda2.value_counts(\"favorites\")"
   ],
   "outputs": [
    {
     "output_type": "execute_result",
     "data": {
      "text/plain": [
       "favorites\n",
       "1       391\n",
       "2       291\n",
       "3       228\n",
       "4       156\n",
       "5       154\n",
       "       ... \n",
       "2309      1\n",
       "2316      1\n",
       "2328      1\n",
       "2351      1\n",
       "1094      1\n",
       "Length: 1447, dtype: int64"
      ]
     },
     "metadata": {},
     "execution_count": 14
    }
   ],
   "metadata": {}
  },
  {
   "cell_type": "markdown",
   "source": [
    "## Removing Outliers and Computing for the Correlation\n",
    "\n",
    "Now, we remove possible outliers so that our analysis will not be influenced by it. Afterwhich, we compute for the correlation between the scores and the number of ratings."
   ],
   "metadata": {}
  },
  {
   "cell_type": "code",
   "execution_count": 15,
   "source": [
    "z_scores = np.abs(sp.stats.zscore(df_eda2))\n",
    "\n",
    "filtered_entries = (z_scores < 3).all(axis=1)\n",
    "new_df = df_eda2[filtered_entries]\n",
    "\n",
    "new_df\n"
   ],
   "outputs": [
    {
     "output_type": "execute_result",
     "data": {
      "text/plain": [
       "      score  favorites\n",
       "1      8.39       1063\n",
       "2      8.23      11882\n",
       "3      7.27        512\n",
       "4      6.97         10\n",
       "5      7.94       1770\n",
       "...     ...        ...\n",
       "8156   6.17        119\n",
       "8158   6.97         32\n",
       "8159   5.97        278\n",
       "8161   5.49         62\n",
       "8264   5.48          5\n",
       "\n",
       "[5304 rows x 2 columns]"
      ],
      "text/html": [
       "<div>\n",
       "<style scoped>\n",
       "    .dataframe tbody tr th:only-of-type {\n",
       "        vertical-align: middle;\n",
       "    }\n",
       "\n",
       "    .dataframe tbody tr th {\n",
       "        vertical-align: top;\n",
       "    }\n",
       "\n",
       "    .dataframe thead th {\n",
       "        text-align: right;\n",
       "    }\n",
       "</style>\n",
       "<table border=\"1\" class=\"dataframe\">\n",
       "  <thead>\n",
       "    <tr style=\"text-align: right;\">\n",
       "      <th></th>\n",
       "      <th>score</th>\n",
       "      <th>favorites</th>\n",
       "    </tr>\n",
       "  </thead>\n",
       "  <tbody>\n",
       "    <tr>\n",
       "      <th>1</th>\n",
       "      <td>8.39</td>\n",
       "      <td>1063</td>\n",
       "    </tr>\n",
       "    <tr>\n",
       "      <th>2</th>\n",
       "      <td>8.23</td>\n",
       "      <td>11882</td>\n",
       "    </tr>\n",
       "    <tr>\n",
       "      <th>3</th>\n",
       "      <td>7.27</td>\n",
       "      <td>512</td>\n",
       "    </tr>\n",
       "    <tr>\n",
       "      <th>4</th>\n",
       "      <td>6.97</td>\n",
       "      <td>10</td>\n",
       "    </tr>\n",
       "    <tr>\n",
       "      <th>5</th>\n",
       "      <td>7.94</td>\n",
       "      <td>1770</td>\n",
       "    </tr>\n",
       "    <tr>\n",
       "      <th>...</th>\n",
       "      <td>...</td>\n",
       "      <td>...</td>\n",
       "    </tr>\n",
       "    <tr>\n",
       "      <th>8156</th>\n",
       "      <td>6.17</td>\n",
       "      <td>119</td>\n",
       "    </tr>\n",
       "    <tr>\n",
       "      <th>8158</th>\n",
       "      <td>6.97</td>\n",
       "      <td>32</td>\n",
       "    </tr>\n",
       "    <tr>\n",
       "      <th>8159</th>\n",
       "      <td>5.97</td>\n",
       "      <td>278</td>\n",
       "    </tr>\n",
       "    <tr>\n",
       "      <th>8161</th>\n",
       "      <td>5.49</td>\n",
       "      <td>62</td>\n",
       "    </tr>\n",
       "    <tr>\n",
       "      <th>8264</th>\n",
       "      <td>5.48</td>\n",
       "      <td>5</td>\n",
       "    </tr>\n",
       "  </tbody>\n",
       "</table>\n",
       "<p>5304 rows × 2 columns</p>\n",
       "</div>"
      ]
     },
     "metadata": {},
     "execution_count": 15
    }
   ],
   "metadata": {}
  },
  {
   "cell_type": "markdown",
   "source": [
    "### "
   ],
   "metadata": {}
  },
  {
   "cell_type": "code",
   "execution_count": 16,
   "source": [
    "new_df['favorites'].corr(new_df['score'])"
   ],
   "outputs": [
    {
     "output_type": "execute_result",
     "data": {
      "text/plain": [
       "0.4098869654408735"
      ]
     },
     "metadata": {},
     "execution_count": 16
    }
   ],
   "metadata": {}
  },
  {
   "cell_type": "markdown",
   "source": [
    "### Observation\n",
    "\n",
    "As we can see, there is a positive weak correlation between the number of favorites gained by the anime and its average score. We then visualize the result through a scatterplot\n",
    "\n",
    "## Visualization"
   ],
   "metadata": {}
  },
  {
   "cell_type": "code",
   "execution_count": 17,
   "source": [
    "new_df.plot.scatter('favorites', 'score')"
   ],
   "outputs": [
    {
     "output_type": "execute_result",
     "data": {
      "text/plain": [
       "<AxesSubplot:xlabel='favorites', ylabel='score'>"
      ]
     },
     "metadata": {},
     "execution_count": 17
    },
    {
     "output_type": "display_data",
     "data": {
      "text/plain": [
       "<Figure size 432x288 with 1 Axes>"
      ],
      "image/png": "[encoded data removed]"
     },
     "metadata": {
      "needs_background": "light"
     }
    }
   ],
   "metadata": {}
  },
  {
   "cell_type": "markdown",
   "source": [
    "### Observation\n",
    "\n",
    "As we can see, there is a positively weak correlation between the number of times at item is favorited `favorites` and the average `score` of a title."
   ],
   "metadata": {}
  },
  {
   "cell_type": "markdown",
   "source": [
    "# 3. Do the studios affect the anime's popularity?"
   ],
   "metadata": {}
  },
  {
   "cell_type": "markdown",
   "source": [
    "# Research Question\n",
    "\n",
    "1. Is there a significant difference between the `Kodakawa Animation` vs `Kyoto Animation` in terms of their average popularity?\n",
    "\n",
    "    lorem ipsum\n",
    "    \n",
    "    .\n",
    "\n",
    "2. Is there a significant difference on the average scores between the `type` `Movie` and `anime` in terms of their average scores (`score`) per different age group (`rating`)?\n",
    "\n",
    "    Since the dataset is intended to be used as a basis of a recommendation system, identifying whether there is a difference between the scores of `TV` and `Movie` across different age groups is a necessity to determine whether it is logical to use the scores as the basis in cross-recommending an anime from a `Movie` type to a `TV` type with the same rating.\n"
   ],
   "metadata": {}
  },
  {
   "cell_type": "markdown",
   "source": [
    "# Statistical Inference"
   ],
   "metadata": {}
  },
  {
   "cell_type": "markdown",
   "source": [
    "For the first research question, we set up our hypotheses as follows:\n",
    "\n",
    "$H_0$ (null hypothesis): There is no significant difference between the number of episodes in an anime and its popularity.\n",
    "\n",
    "$H_A$ (alternative hypothesis): There is a significant difference between the number of episodes in an anime and its popularity."
   ],
   "metadata": {}
  },
  {
   "cell_type": "code",
   "execution_count": 73,
   "source": [
    "#Dito Gian"
   ],
   "outputs": [],
   "metadata": {}
  },
  {
   "cell_type": "markdown",
   "source": [
    "For the second research question, we set up our hypotheses as follows:\n",
    "\n",
    "$H_0$ (null hypothesis): There is no significant difference on the average scores between the `type` `Movie` and `anime` in terms of their average scores (`score`) per different age group (`rating`).\n",
    "\n",
    "$H_A$ (alternative hypothesis): There is a significant difference on the average scores between the `type` `Movie` and `anime` in terms of their average scores (`score`) per different age group (`rating`)"
   ],
   "metadata": {}
  },
  {
   "cell_type": "code",
   "execution_count": 55,
   "source": [
    "df_eda1['type'].unique()\n",
    "\n",
    "counts = (df_eda1.groupby(['type','rating'])).agg({'score': [\"mean\"]})\n",
    "counts['score']['mean']['Movie']\n"
   ],
   "outputs": [
    {
     "output_type": "execute_result",
     "data": {
      "text/plain": [
       "rating\n",
       "G - All Ages                      5.918290\n",
       "PG - Children                     6.589375\n",
       "PG-13 - Teens 13 or older         6.940393\n",
       "R - 17+ (violence & profanity)    7.071818\n",
       "R+ - Mild Nudity                  6.229160\n",
       "Rx - Hentai                       5.725000\n",
       "Name: mean, dtype: float64"
      ]
     },
     "metadata": {},
     "execution_count": 55
    }
   ],
   "metadata": {}
  },
  {
   "cell_type": "code",
   "execution_count": 71,
   "source": [
    "table1 = pd.DataFrame([counts['score']['mean']['Movie'], counts['score']['mean']['TV']], index=[\"Movie\", \"TV\"])\n",
    "table1"
   ],
   "outputs": [
    {
     "output_type": "execute_result",
     "data": {
      "text/plain": [
       "       G - All Ages  PG - Children  PG-13 - Teens 13 or older  \\\n",
       "Movie      5.918290       6.589375                   6.940393   \n",
       "TV         6.570344       6.549096                   6.956120   \n",
       "\n",
       "       R - 17+ (violence & profanity)  R+ - Mild Nudity  Rx - Hentai  \n",
       "Movie                        7.071818          6.229160        5.725  \n",
       "TV                           7.303425          6.655785          NaN  "
      ],
      "text/html": [
       "<div>\n",
       "<style scoped>\n",
       "    .dataframe tbody tr th:only-of-type {\n",
       "        vertical-align: middle;\n",
       "    }\n",
       "\n",
       "    .dataframe tbody tr th {\n",
       "        vertical-align: top;\n",
       "    }\n",
       "\n",
       "    .dataframe thead th {\n",
       "        text-align: right;\n",
       "    }\n",
       "</style>\n",
       "<table border=\"1\" class=\"dataframe\">\n",
       "  <thead>\n",
       "    <tr style=\"text-align: right;\">\n",
       "      <th></th>\n",
       "      <th>G - All Ages</th>\n",
       "      <th>PG - Children</th>\n",
       "      <th>PG-13 - Teens 13 or older</th>\n",
       "      <th>R - 17+ (violence &amp; profanity)</th>\n",
       "      <th>R+ - Mild Nudity</th>\n",
       "      <th>Rx - Hentai</th>\n",
       "    </tr>\n",
       "  </thead>\n",
       "  <tbody>\n",
       "    <tr>\n",
       "      <th>Movie</th>\n",
       "      <td>5.918290</td>\n",
       "      <td>6.589375</td>\n",
       "      <td>6.940393</td>\n",
       "      <td>7.071818</td>\n",
       "      <td>6.229160</td>\n",
       "      <td>5.725</td>\n",
       "    </tr>\n",
       "    <tr>\n",
       "      <th>TV</th>\n",
       "      <td>6.570344</td>\n",
       "      <td>6.549096</td>\n",
       "      <td>6.956120</td>\n",
       "      <td>7.303425</td>\n",
       "      <td>6.655785</td>\n",
       "      <td>NaN</td>\n",
       "    </tr>\n",
       "  </tbody>\n",
       "</table>\n",
       "</div>"
      ]
     },
     "metadata": {},
     "execution_count": 71
    }
   ],
   "metadata": {}
  },
  {
   "cell_type": "code",
   "execution_count": 72,
   "source": [
    "table1 = table1.drop(columns=\"Rx - Hentai\")\n",
    "table1 = table1.transpose()\n",
    "table1"
   ],
   "outputs": [
    {
     "output_type": "execute_result",
     "data": {
      "text/plain": [
       "                                   Movie        TV\n",
       "G - All Ages                    5.918290  6.570344\n",
       "PG - Children                   6.589375  6.549096\n",
       "PG-13 - Teens 13 or older       6.940393  6.956120\n",
       "R - 17+ (violence & profanity)  7.071818  7.303425\n",
       "R+ - Mild Nudity                6.229160  6.655785"
      ],
      "text/html": [
       "<div>\n",
       "<style scoped>\n",
       "    .dataframe tbody tr th:only-of-type {\n",
       "        vertical-align: middle;\n",
       "    }\n",
       "\n",
       "    .dataframe tbody tr th {\n",
       "        vertical-align: top;\n",
       "    }\n",
       "\n",
       "    .dataframe thead th {\n",
       "        text-align: right;\n",
       "    }\n",
       "</style>\n",
       "<table border=\"1\" class=\"dataframe\">\n",
       "  <thead>\n",
       "    <tr style=\"text-align: right;\">\n",
       "      <th></th>\n",
       "      <th>Movie</th>\n",
       "      <th>TV</th>\n",
       "    </tr>\n",
       "  </thead>\n",
       "  <tbody>\n",
       "    <tr>\n",
       "      <th>G - All Ages</th>\n",
       "      <td>5.918290</td>\n",
       "      <td>6.570344</td>\n",
       "    </tr>\n",
       "    <tr>\n",
       "      <th>PG - Children</th>\n",
       "      <td>6.589375</td>\n",
       "      <td>6.549096</td>\n",
       "    </tr>\n",
       "    <tr>\n",
       "      <th>PG-13 - Teens 13 or older</th>\n",
       "      <td>6.940393</td>\n",
       "      <td>6.956120</td>\n",
       "    </tr>\n",
       "    <tr>\n",
       "      <th>R - 17+ (violence &amp; profanity)</th>\n",
       "      <td>7.071818</td>\n",
       "      <td>7.303425</td>\n",
       "    </tr>\n",
       "    <tr>\n",
       "      <th>R+ - Mild Nudity</th>\n",
       "      <td>6.229160</td>\n",
       "      <td>6.655785</td>\n",
       "    </tr>\n",
       "  </tbody>\n",
       "</table>\n",
       "</div>"
      ]
     },
     "metadata": {},
     "execution_count": 72
    }
   ],
   "metadata": {}
  },
  {
   "cell_type": "code",
   "execution_count": 69,
   "source": [
    "sp.chi2_contingency(table1)"
   ],
   "outputs": [
    {
     "output_type": "execute_result",
     "data": {
      "text/plain": [
       "(0.027300372901567373,\n",
       " 0.9999076796830506,\n",
       " 4,\n",
       " array([[6.12410021, 6.36453359],\n",
       "        [6.44276353, 6.69570768],\n",
       "        [6.81448738, 7.08202549],\n",
       "        [7.04924421, 7.32599892],\n",
       "        [6.31844094, 6.56650417]]))"
      ]
     },
     "metadata": {},
     "execution_count": 69
    }
   ],
   "metadata": {}
  },
  {
   "cell_type": "markdown",
   "source": [
    "### Observation\n",
    "\n",
    "As we can see,from the obtained p - value, `0.999` from the chi test that there is no significant difference between the `TV` type and `Movie` type at any age group in any significance level. For this, we accept the null hypothesis that there is no significant difference on the average scores between the `type` `Movie` and `anime` in terms of their average scores (`score`) per different age group (`rating`)."
   ],
   "metadata": {}
  },
  {
   "cell_type": "markdown",
   "source": [
    "# Inference and Conclusion\n",
    "\n",
    "dito Sharlin"
   ],
   "metadata": {}
  },
  {
   "cell_type": "markdown",
   "source": [],
   "metadata": {}
  }
 ],
 "metadata": {
  "kernelspec": {
   "name": "python3",
   "display_name": "Python 3.8.5 64-bit ('base': conda)"
  },
  "language_info": {
   "codemirror_mode": {
    "name": "ipython",
    "version": 3
   },
   "file_extension": ".py",
   "mimetype": "text/x-python",
   "name": "python",
   "nbconvert_exporter": "python",
   "pygments_lexer": "ipython3",
   "version": "3.8.5"
  },
  "interpreter": {
   "hash": "dca0ade3e726a953b501b15e8e990130d2b7799f14cfd9f4271676035ebe5511"
  }
 },
 "nbformat": 4,
 "nbformat_minor": 4
}
{
 "cells": [
  {
   "cell_type": "markdown",
   "metadata": {},
   "source": [
    "# Project 1 - Statistical Inference (DIZON, TANG, TEE)\n",
    "In this notebook, we will be exploring on the data from **MyAnimeList** which consists of anime-related data. We will be focusing on analyzing statistical-related inferences.\n",
    "\n",
    "## numpy, pandas, and matplotlib\n",
    "To start, we will be first importing the libraries that will be used to help us analyze the given data. The following libraries will be used:\n",
    "\n",
    "1.   **Numpy**\n",
    "2.   **Pandas**\n",
    "3.  **Matplotlib**\n"
   ]
  },
  {
   "cell_type": "code",
   "execution_count": 93,
   "metadata": {},
   "outputs": [],
   "source": [
    "import numpy as np\n",
    "import pandas as pd \n",
    "import matplotlib.pyplot as plt\n"
   ]
  },
  {
   "cell_type": "markdown",
   "metadata": {},
   "source": [
    "## The Dataset\n",
    "Next, we will be moving on to importing anime_list csv file. This will be the dataset that we will be working on. It contains over 23 variables (columns) and 18,162 observations (rows). Some of the variables will be ommitted from what we will be analyzing."
   ]
  },
  {
   "cell_type": "code",
   "execution_count": 3,
   "metadata": {},
   "outputs": [
    {
     "name": "stdout",
     "output_type": "stream",
     "text": [
      "<class 'pandas.core.frame.DataFrame'>\n",
      "RangeIndex: 18162 entries, 0 to 18161\n",
      "Data columns (total 23 columns):\n",
      " #   Column      Non-Null Count  Dtype  \n",
      "---  ------      --------------  -----  \n",
      " 0   mal_id      18162 non-null  int64  \n",
      " 1   title       18162 non-null  object \n",
      " 2   synopsis    18162 non-null  object \n",
      " 3   background  18162 non-null  object \n",
      " 4   aired       18162 non-null  object \n",
      " 5   airing      18162 non-null  int64  \n",
      " 6   duration    18162 non-null  object \n",
      " 7   episodes    18162 non-null  int64  \n",
      " 8   type        18162 non-null  object \n",
      " 9   favorites   18162 non-null  int64  \n",
      " 10  members     18162 non-null  int64  \n",
      " 11  rank        18162 non-null  float64\n",
      " 12  popularity  18162 non-null  int64  \n",
      " 13  score       18162 non-null  float64\n",
      " 14  scored_by   18162 non-null  int64  \n",
      " 15  rating      18162 non-null  object \n",
      " 16  premiered   18162 non-null  object \n",
      " 17  genres      18095 non-null  object \n",
      " 18  related     18162 non-null  object \n",
      " 19  status      18162 non-null  object \n",
      " 20  licensors   18162 non-null  object \n",
      " 21  producers   18162 non-null  object \n",
      " 22  studios     18162 non-null  object \n",
      "dtypes: float64(2), int64(7), object(14)\n",
      "memory usage: 3.2+ MB\n"
     ]
    }
   ],
   "source": [
    "df = pd.read_csv('https://raw.githubusercontent.com/gavindizon/CSMODEL/main/Project%201%20-%20Statistical%20Inference/csv/anime_list.csv')\n",
    "df.info()"
   ]
  },
  {
   "cell_type": "markdown",
   "metadata": {},
   "source": [
    "## Data Cleaning\n",
    "\n",
    "Before analyzing the data, we will first clean the data. Here, we will remove the uneeded variables and variables with null values. Although, some of the variables that have null values but with the proper context (e.g. Not Applicable) will be represented with a uniform sentinel value (`-` for an object/ string and `-1` for a number) instead of removing the whole column.\n",
    "\n",
    "In addition, since our analysis will be focusing on `TV` and `Movie` types we will be removing other types of Anime such as `OVA` and `ONA`."
   ]
  },
  {
   "cell_type": "code",
   "execution_count": 4,
   "metadata": {},
   "outputs": [],
   "source": [
    "df_cleaned = df.drop(['background', 'mal_id', 'synopsis', 'related'], 1)\n",
    "#Convert raw data types to their necessary datatypes\n",
    "df_cleaned['rank'] = df_cleaned['rank'].astype(int)\n",
    "df_cleaned = df_cleaned.dropna(subset= ['genres'], how= 'any')\n",
    "\n",
    "#Remove unnecessary part of dataset\n",
    "df_cleaned = df_cleaned[(df_cleaned['type'] == 'TV') | (df_cleaned['type'] == 'Movie')]\n",
    "\n",
    "df_cleaned = df_cleaned.reset_index()"
   ]
  },
  {
   "cell_type": "markdown",
   "metadata": {},
   "source": [
    "### Checking for Possible Duplicates\n",
    "\n",
    "Another thing that we could do is to check for possible duplicates, and we either merge these together or drop the others from the dataset depending on the context. In this dataset, there is one duplicate title found which is `Maou Gakuin no Futekigousha: Shijou Saikyou no Maou no Shiso, Tensei shite Shison-tachi no Gakkou e`. In the case of the duplicate, it can be seen below that one observation mostly consists of sentinel values. This just means that this observation is merely a duplicate thus we only need to remove it."
   ]
  },
  {
   "cell_type": "code",
   "execution_count": 5,
   "metadata": {},
   "outputs": [
    {
     "data": {
      "text/plain": [
       "Maou Gakuin no Futekigousha: Shijou Saikyou no Maou no Shiso, Tensei shite Shison-tachi no Gakkou e    2\n",
       "Pokemon Movie 02: Maboroshi no Pokemon Lugia Bakutan                                                   1\n",
       "Ketsuekigata-kun! 2                                                                                    1\n",
       "Kyoufu no Kyou-chan                                                                                    1\n",
       "Guin Saga                                                                                              1\n",
       "                                                                                                      ..\n",
       "Black Fox                                                                                              1\n",
       "Kyouryuu Daisensou Izenborg                                                                            1\n",
       "Eikyuu Kazoku                                                                                          1\n",
       "Mahou Shoujo Tokushusen Asuka                                                                          1\n",
       "RPG Densetsu Hepoi                                                                                     1\n",
       "Name: title, Length: 8342, dtype: int64"
      ]
     },
     "execution_count": 5,
     "metadata": {},
     "output_type": "execute_result"
    }
   ],
   "source": [
    "df_cleaned['title'].value_counts()"
   ]
  },
  {
   "cell_type": "code",
   "execution_count": 6,
   "metadata": {},
   "outputs": [
    {
     "data": {
      "text/html": [
       "<div>\n",
       "<style scoped>\n",
       "    .dataframe tbody tr th:only-of-type {\n",
       "        vertical-align: middle;\n",
       "    }\n",
       "\n",
       "    .dataframe tbody tr th {\n",
       "        vertical-align: top;\n",
       "    }\n",
       "\n",
       "    .dataframe thead th {\n",
       "        text-align: right;\n",
       "    }\n",
       "</style>\n",
       "<table border=\"1\" class=\"dataframe\">\n",
       "  <thead>\n",
       "    <tr style=\"text-align: right;\">\n",
       "      <th></th>\n",
       "      <th>index</th>\n",
       "      <th>title</th>\n",
       "      <th>aired</th>\n",
       "      <th>airing</th>\n",
       "      <th>duration</th>\n",
       "      <th>episodes</th>\n",
       "      <th>type</th>\n",
       "      <th>favorites</th>\n",
       "      <th>members</th>\n",
       "      <th>rank</th>\n",
       "      <th>popularity</th>\n",
       "      <th>score</th>\n",
       "      <th>scored_by</th>\n",
       "      <th>rating</th>\n",
       "      <th>premiered</th>\n",
       "      <th>genres</th>\n",
       "      <th>status</th>\n",
       "      <th>licensors</th>\n",
       "      <th>producers</th>\n",
       "      <th>studios</th>\n",
       "    </tr>\n",
       "  </thead>\n",
       "  <tbody>\n",
       "    <tr>\n",
       "      <th>7470</th>\n",
       "      <td>16175</td>\n",
       "      <td>Maou Gakuin no Futekigousha: Shijou Saikyou no...</td>\n",
       "      <td>Jul 4, 2020 to Sep 26, 2020</td>\n",
       "      <td>0</td>\n",
       "      <td>23 min per ep</td>\n",
       "      <td>13</td>\n",
       "      <td>TV</td>\n",
       "      <td>3066</td>\n",
       "      <td>437602</td>\n",
       "      <td>2188</td>\n",
       "      <td>343</td>\n",
       "      <td>7.34</td>\n",
       "      <td>245721</td>\n",
       "      <td>R - 17+ (violence &amp; profanity)</td>\n",
       "      <td>Summer 2020</td>\n",
       "      <td>Action, Demons, Magic, Fantasy, School</td>\n",
       "      <td>Finished Airing</td>\n",
       "      <td>Aniplex of America</td>\n",
       "      <td>Aniplex, Kadokawa</td>\n",
       "      <td>SILVER LINK.</td>\n",
       "    </tr>\n",
       "    <tr>\n",
       "      <th>8269</th>\n",
       "      <td>17966</td>\n",
       "      <td>Maou Gakuin no Futekigousha: Shijou Saikyou no...</td>\n",
       "      <td>Not available</td>\n",
       "      <td>0</td>\n",
       "      <td>Unknown</td>\n",
       "      <td>-1</td>\n",
       "      <td>TV</td>\n",
       "      <td>100</td>\n",
       "      <td>18366</td>\n",
       "      <td>-1</td>\n",
       "      <td>3980</td>\n",
       "      <td>-1.00</td>\n",
       "      <td>-1</td>\n",
       "      <td>R - 17+ (violence &amp; profanity)</td>\n",
       "      <td>-</td>\n",
       "      <td>Action, Demons, Magic, Fantasy, School</td>\n",
       "      <td>Not yet aired</td>\n",
       "      <td>-</td>\n",
       "      <td>Aniplex</td>\n",
       "      <td>SILVER LINK.</td>\n",
       "    </tr>\n",
       "  </tbody>\n",
       "</table>\n",
       "</div>"
      ],
      "text/plain": [
       "      index                                              title  \\\n",
       "7470  16175  Maou Gakuin no Futekigousha: Shijou Saikyou no...   \n",
       "8269  17966  Maou Gakuin no Futekigousha: Shijou Saikyou no...   \n",
       "\n",
       "                            aired  airing       duration  episodes type  \\\n",
       "7470  Jul 4, 2020 to Sep 26, 2020       0  23 min per ep        13   TV   \n",
       "8269                Not available       0        Unknown        -1   TV   \n",
       "\n",
       "      favorites  members  rank  popularity  score  scored_by  \\\n",
       "7470       3066   437602  2188         343   7.34     245721   \n",
       "8269        100    18366    -1        3980  -1.00         -1   \n",
       "\n",
       "                              rating    premiered  \\\n",
       "7470  R - 17+ (violence & profanity)  Summer 2020   \n",
       "8269  R - 17+ (violence & profanity)            -   \n",
       "\n",
       "                                      genres           status  \\\n",
       "7470  Action, Demons, Magic, Fantasy, School  Finished Airing   \n",
       "8269  Action, Demons, Magic, Fantasy, School    Not yet aired   \n",
       "\n",
       "               licensors          producers       studios  \n",
       "7470  Aniplex of America  Aniplex, Kadokawa  SILVER LINK.  \n",
       "8269                   -            Aniplex  SILVER LINK.  "
      ]
     },
     "execution_count": 6,
     "metadata": {},
     "output_type": "execute_result"
    }
   ],
   "source": [
    "df_cleaned.loc[df_cleaned['title'] == 'Maou Gakuin no Futekigousha: Shijou Saikyou no Maou no Shiso, Tensei shite Shison-tachi no Gakkou e' ]"
   ]
  },
  {
   "cell_type": "code",
   "execution_count": 7,
   "metadata": {},
   "outputs": [
    {
     "name": "stdout",
     "output_type": "stream",
     "text": [
      "<class 'pandas.core.frame.DataFrame'>\n",
      "RangeIndex: 8342 entries, 0 to 8341\n",
      "Data columns (total 21 columns):\n",
      " #   Column      Non-Null Count  Dtype  \n",
      "---  ------      --------------  -----  \n",
      " 0   level_0     8342 non-null   int64  \n",
      " 1   index       8342 non-null   int64  \n",
      " 2   title       8342 non-null   object \n",
      " 3   aired       8342 non-null   object \n",
      " 4   airing      8342 non-null   int64  \n",
      " 5   duration    8342 non-null   object \n",
      " 6   episodes    8342 non-null   int64  \n",
      " 7   type        8342 non-null   object \n",
      " 8   favorites   8342 non-null   int64  \n",
      " 9   members     8342 non-null   int64  \n",
      " 10  rank        8342 non-null   int64  \n",
      " 11  popularity  8342 non-null   int64  \n",
      " 12  score       8342 non-null   float64\n",
      " 13  scored_by   8342 non-null   int64  \n",
      " 14  rating      8342 non-null   object \n",
      " 15  premiered   8342 non-null   object \n",
      " 16  genres      8342 non-null   object \n",
      " 17  status      8342 non-null   object \n",
      " 18  licensors   8342 non-null   object \n",
      " 19  producers   8342 non-null   object \n",
      " 20  studios     8342 non-null   object \n",
      "dtypes: float64(1), int64(9), object(11)\n",
      "memory usage: 1.3+ MB\n"
     ]
    }
   ],
   "source": [
    "df_cleaned = df_cleaned.drop(df_cleaned.index[8269])\n",
    "df_cleaned = df_cleaned.reset_index()\n",
    "df_cleaned.info()"
   ]
  },
  {
   "cell_type": "code",
   "execution_count": 8,
   "metadata": {},
   "outputs": [
    {
     "data": {
      "text/plain": [
       "array(['R - 17+ (violence & profanity)', 'PG-13 - Teens 13 or older',\n",
       "       'PG - Children', 'R+ - Mild Nudity', 'G - All Ages', 'None',\n",
       "       'Rx - Hentai'], dtype=object)"
      ]
     },
     "execution_count": 8,
     "metadata": {},
     "output_type": "execute_result"
    }
   ],
   "source": [
    "df_cleaned['rating'].unique()"
   ]
  },
  {
   "cell_type": "markdown",
   "metadata": {},
   "source": [
    "## Exploratory Data Analysis\n",
    "\n",
    "After the data was cleaned, we proceed now to analyzing it. Since the dataset was created for a recommendation system, we will be exploring possible correlations between the presented variables. Primarily, we will be focusing on three things which are the ff:\n",
    "1. Correlation between the Rating and the Score \n",
    "2. -\n",
    "3. -"
   ]
  },
  {
   "cell_type": "markdown",
   "metadata": {},
   "source": [
    "# 1. Correlation between the Rating and the Score\n",
    "\n",
    "To start, we will be exploring the correlation between the rating and the score. In the data given, there are 7 kinds of rating. \n",
    "- None\n",
    "- G - All Ages\n",
    "- PG - Children\n",
    "- PG - Teens 13 or older\n",
    "- R - 17+ (violence & profanity)\n",
    "- R+ - Mild Nudity\n",
    "- Rx - Hentai\n",
    "\n",
    "## Further Data Preprocessing\n",
    "\n",
    "We will be excluding the `None` type of rating in this analysis since we would be exploring only the rated types. Likewise, we will be grouping the observations based on their ratings."
   ]
  },
  {
   "cell_type": "code",
   "execution_count": 42,
   "metadata": {},
   "outputs": [],
   "source": [
    "#creates a dataframe that excludes the None Rating Type and Sentinel Value Rows from score\n",
    "df_eda1 = df_cleaned.loc[(df_cleaned['rating'] != 'None') & (df_cleaned['score'] > -1.0)]"
   ]
  },
  {
   "cell_type": "markdown",
   "metadata": {},
   "source": [
    "## Numerical Summaries\n",
    "\n",
    "Here, we will be looking for the measure of central tendencies, dispersion, and possible correlation between the rating and the score."
   ]
  },
  {
   "cell_type": "code",
   "execution_count": 85,
   "metadata": {},
   "outputs": [
    {
     "data": {
      "text/html": [
       "<div>\n",
       "<style scoped>\n",
       "    .dataframe tbody tr th:only-of-type {\n",
       "        vertical-align: middle;\n",
       "    }\n",
       "\n",
       "    .dataframe tbody tr th {\n",
       "        vertical-align: top;\n",
       "    }\n",
       "\n",
       "    .dataframe thead tr th {\n",
       "        text-align: left;\n",
       "    }\n",
       "\n",
       "    .dataframe thead tr:last-of-type th {\n",
       "        text-align: right;\n",
       "    }\n",
       "</style>\n",
       "<table border=\"1\" class=\"dataframe\">\n",
       "  <thead>\n",
       "    <tr>\n",
       "      <th></th>\n",
       "      <th colspan=\"3\" halign=\"left\">score</th>\n",
       "    </tr>\n",
       "    <tr>\n",
       "      <th></th>\n",
       "      <th>mean</th>\n",
       "      <th>median</th>\n",
       "      <th>std</th>\n",
       "    </tr>\n",
       "    <tr>\n",
       "      <th>rating</th>\n",
       "      <th></th>\n",
       "      <th></th>\n",
       "      <th></th>\n",
       "    </tr>\n",
       "  </thead>\n",
       "  <tbody>\n",
       "    <tr>\n",
       "      <th>G - All Ages</th>\n",
       "      <td>6.198567</td>\n",
       "      <td>6.230</td>\n",
       "      <td>0.857516</td>\n",
       "    </tr>\n",
       "    <tr>\n",
       "      <th>PG - Children</th>\n",
       "      <td>6.566311</td>\n",
       "      <td>6.600</td>\n",
       "      <td>0.676875</td>\n",
       "    </tr>\n",
       "    <tr>\n",
       "      <th>PG-13 - Teens 13 or older</th>\n",
       "      <td>6.952306</td>\n",
       "      <td>7.020</td>\n",
       "      <td>0.827165</td>\n",
       "    </tr>\n",
       "    <tr>\n",
       "      <th>R - 17+ (violence &amp; profanity)</th>\n",
       "      <td>7.237803</td>\n",
       "      <td>7.330</td>\n",
       "      <td>0.860957</td>\n",
       "    </tr>\n",
       "    <tr>\n",
       "      <th>R+ - Mild Nudity</th>\n",
       "      <td>6.522184</td>\n",
       "      <td>6.635</td>\n",
       "      <td>1.039909</td>\n",
       "    </tr>\n",
       "    <tr>\n",
       "      <th>Rx - Hentai</th>\n",
       "      <td>5.725000</td>\n",
       "      <td>5.760</td>\n",
       "      <td>0.941483</td>\n",
       "    </tr>\n",
       "  </tbody>\n",
       "</table>\n",
       "</div>"
      ],
      "text/plain": [
       "                                   score                 \n",
       "                                    mean median       std\n",
       "rating                                                   \n",
       "G - All Ages                    6.198567  6.230  0.857516\n",
       "PG - Children                   6.566311  6.600  0.676875\n",
       "PG-13 - Teens 13 or older       6.952306  7.020  0.827165\n",
       "R - 17+ (violence & profanity)  7.237803  7.330  0.860957\n",
       "R+ - Mild Nudity                6.522184  6.635  1.039909\n",
       "Rx - Hentai                     5.725000  5.760  0.941483"
      ]
     },
     "execution_count": 85,
     "metadata": {},
     "output_type": "execute_result"
    }
   ],
   "source": [
    "df_eda1_num = df_eda1.groupby('rating').agg({'score': [\"mean\", \"median\", \"std\"]})\n",
    "df_eda1_num"
   ]
  },
  {
   "cell_type": "markdown",
   "metadata": {},
   "source": [
    "To check for the possible correlation between the rating and the average score, we will be representing the ratings through a numerical value with `0` being the lowest which will be represented by the `G - All Ages` and `5` being the highest which will be represented by `Rx - Hentai`"
   ]
  },
  {
   "cell_type": "code",
   "execution_count": 86,
   "metadata": {},
   "outputs": [
    {
     "data": {
      "text/plain": [
       "-0.2207063311724617"
      ]
     },
     "execution_count": 86,
     "metadata": {},
     "output_type": "execute_result"
    }
   ],
   "source": [
    "df_eda1corr = (df_eda1_num.reset_index()).rename(columns={'': 'rating'}).reset_index().rename(columns={'': \"num_value\"})\n",
    "\n",
    "df_eda1corr['index']['num_value'].corr(df_eda1corr['score']['mean'])"
   ]
  },
  {
   "cell_type": "markdown",
   "metadata": {},
   "source": [
    "### Observation\n",
    "\n",
    "It can be seen that there is a negatively very weak correlation between the rating and the scores. This means that there is a very weak relationship where in as the rating is intended for higher-aged audience the more the score will dip.\n",
    "\n",
    "## Visualization"
   ]
  },
  {
   "cell_type": "code",
   "execution_count": 87,
   "metadata": {},
   "outputs": [
    {
     "data": {
      "image/png": "[encoded data removed]",
      "text/plain": [
       "<Figure size 864x432 with 1 Axes>"
      ]
     },
     "metadata": {
      "needs_background": "light"
     },
     "output_type": "display_data"
    }
   ],
   "source": [
    "df_eda1_viz = df_eda1corr\n",
    "df_eda1_viz.columns = df_eda1corr.columns.droplevel()\n",
    "\n",
    "viz_eda1 = df_eda1_viz.plot.bar(figsize=(12,6), x='rating', y='mean')\n",
    "viz_eda1.set_title(\"Average Score per Rating\")\n",
    "viz_eda1.set_ylabel('Scores')\n",
    "plt.show()\n"
   ]
  },
  {
   "cell_type": "markdown",
   "metadata": {},
   "source": [
    "### Observation\n",
    "It can be seen that the rating with the highest average in terms of score is the `R-17+ (Violence & Profanity)` rating attaining `7.23`. It was then followed by `PG-13 - Teens 13 or older` and `PG-Children` attaining an average of `6.95` and `6.59` respectively. The lowest scored ratings are `Rx - Hentai`, `R+ - Mild Nudity`, and `G - All Ages` which got `5.73`, `6.20`, and `6.52` respectively."
   ]
  },
  {
   "cell_type": "code",
   "execution_count": 92,
   "metadata": {},
   "outputs": [
    {
     "data": {
      "image/png": "[encoded data removed]",
      "text/plain": [
       "<Figure size 864x1152 with 6 Axes>"
      ]
     },
     "metadata": {
      "needs_background": "light"
     },
     "output_type": "display_data"
    }
   ],
   "source": [
    "df_eda1.groupby('rating').boxplot(column=\"score\",figsize=(12,16))\n",
    "plt.show()\n"
   ]
  },
  {
   "cell_type": "markdown",
   "metadata": {},
   "source": [
    "### Observation\n",
    "The Box Plot shows the median of the `rating`. It could be seen that there are a lot of outliers for the `PG` to the `R+` rating.\n",
    "\n",
    "## Research Questions\n",
    "\n",
    "In terms of evaluating the rating and scores, there will be two questions:\n",
    "1. answerable by performing statistical inference on means\n",
    "2. answerable by performing statistical inference on categorical data\n",
    "\n",
    "## Statistical Inferences"
   ]
  },
  {
   "cell_type": "code",
   "execution_count": null,
   "metadata": {},
   "outputs": [],
   "source": []
  },
  {
   "cell_type": "markdown",
   "metadata": {},
   "source": [
    "## Insight and Conclusion"
   ]
  },
  {
   "cell_type": "code",
   "execution_count": null,
   "metadata": {},
   "outputs": [],
   "source": []
  },
  {
   "cell_type": "code",
   "execution_count": null,
   "metadata": {},
   "outputs": [],
   "source": []
  },
  {
   "cell_type": "code",
   "execution_count": null,
   "metadata": {},
   "outputs": [],
   "source": []
  },
  {
   "cell_type": "code",
   "execution_count": null,
   "metadata": {},
   "outputs": [],
   "source": []
  },
  {
   "cell_type": "code",
   "execution_count": null,
   "metadata": {},
   "outputs": [],
   "source": []
  },
  {
   "cell_type": "code",
   "execution_count": null,
   "metadata": {},
   "outputs": [],
   "source": []
  },
  {
   "cell_type": "markdown",
   "metadata": {},
   "source": [
    "### Genre and Score\n",
    "To start, we will be exploring on scores and genres. With that, we first ask the question, on average, **what genre has the highest score?** We want to answer this question since we want to know if there is a trend with regards to what genre is the highest rated. To answer that, we will be adding further preprocessing since not all of the observations in the dataset are scored. As such, there is a sentinel value `-1` which is reserved for unscored observations. In addition, we will be preprocess the genres first since it is in the format of a string and it would be difficult to analyze each genres."
   ]
  },
  {
   "cell_type": "code",
   "execution_count": null,
   "metadata": {},
   "outputs": [],
   "source": []
  },
  {
   "cell_type": "code",
   "execution_count": 163,
   "metadata": {},
   "outputs": [
    {
     "name": "stdout",
     "output_type": "stream",
     "text": [
      "<class 'pandas.core.frame.DataFrame'>\n",
      "Int64Index: 6003 entries, 0 to 8264\n",
      "Data columns (total 4 columns):\n",
      " #   Column     Non-Null Count  Dtype  \n",
      "---  ------     --------------  -----  \n",
      " 0   title      6003 non-null   object \n",
      " 1   score      6003 non-null   float64\n",
      " 2   scored_by  6003 non-null   int64  \n",
      " 3   genres     6003 non-null   object \n",
      "dtypes: float64(1), int64(1), object(2)\n",
      "memory usage: 234.5+ KB\n"
     ]
    }
   ],
   "source": [
    "df_GAndS_res1 = df_cleaned[df_cleaned['score'] != -1.0]\n",
    "df_GAndS_res1 = df_GAndS_res1[['title','score', 'scored_by', 'genres']]\n",
    "\n",
    "df_GAndS_res1.info()"
   ]
  },
  {
   "cell_type": "markdown",
   "metadata": {},
   "source": [
    "### Observation\n",
    "\n",
    "As we can see, the number of observations have been trimmed down to `6003`. Now we move on to preparing, the genres."
   ]
  },
  {
   "cell_type": "code",
   "execution_count": 164,
   "metadata": {},
   "outputs": [
    {
     "data": {
      "text/html": [
       "<div>\n",
       "<style scoped>\n",
       "    .dataframe tbody tr th:only-of-type {\n",
       "        vertical-align: middle;\n",
       "    }\n",
       "\n",
       "    .dataframe tbody tr th {\n",
       "        vertical-align: top;\n",
       "    }\n",
       "\n",
       "    .dataframe thead th {\n",
       "        text-align: right;\n",
       "    }\n",
       "</style>\n",
       "<table border=\"1\" class=\"dataframe\">\n",
       "  <thead>\n",
       "    <tr style=\"text-align: right;\">\n",
       "      <th></th>\n",
       "      <th>title</th>\n",
       "      <th>score</th>\n",
       "      <th>scored_by</th>\n",
       "      <th>genres</th>\n",
       "      <th>score_weight</th>\n",
       "    </tr>\n",
       "  </thead>\n",
       "  <tbody>\n",
       "    <tr>\n",
       "      <th>0</th>\n",
       "      <td>Cowboy Bebop</td>\n",
       "      <td>8.77</td>\n",
       "      <td>661519</td>\n",
       "      <td>Action</td>\n",
       "      <td>5801521.63</td>\n",
       "    </tr>\n",
       "    <tr>\n",
       "      <th>1</th>\n",
       "      <td>Cowboy Bebop</td>\n",
       "      <td>8.77</td>\n",
       "      <td>661519</td>\n",
       "      <td>Adventure</td>\n",
       "      <td>5801521.63</td>\n",
       "    </tr>\n",
       "    <tr>\n",
       "      <th>2</th>\n",
       "      <td>Cowboy Bebop</td>\n",
       "      <td>8.77</td>\n",
       "      <td>661519</td>\n",
       "      <td>Comedy</td>\n",
       "      <td>5801521.63</td>\n",
       "    </tr>\n",
       "    <tr>\n",
       "      <th>3</th>\n",
       "      <td>Cowboy Bebop</td>\n",
       "      <td>8.77</td>\n",
       "      <td>661519</td>\n",
       "      <td>Drama</td>\n",
       "      <td>5801521.63</td>\n",
       "    </tr>\n",
       "    <tr>\n",
       "      <th>4</th>\n",
       "      <td>Cowboy Bebop</td>\n",
       "      <td>8.77</td>\n",
       "      <td>661519</td>\n",
       "      <td>Sci-Fi</td>\n",
       "      <td>5801521.63</td>\n",
       "    </tr>\n",
       "    <tr>\n",
       "      <th>...</th>\n",
       "      <td>...</td>\n",
       "      <td>...</td>\n",
       "      <td>...</td>\n",
       "      <td>...</td>\n",
       "      <td>...</td>\n",
       "    </tr>\n",
       "    <tr>\n",
       "      <th>21794</th>\n",
       "      <td>Blue Reflection Ray</td>\n",
       "      <td>5.49</td>\n",
       "      <td>2362</td>\n",
       "      <td>Magic</td>\n",
       "      <td>12967.38</td>\n",
       "    </tr>\n",
       "    <tr>\n",
       "      <th>21795</th>\n",
       "      <td>Blue Reflection Ray</td>\n",
       "      <td>5.49</td>\n",
       "      <td>2362</td>\n",
       "      <td>School</td>\n",
       "      <td>12967.38</td>\n",
       "    </tr>\n",
       "    <tr>\n",
       "      <th>21796</th>\n",
       "      <td>Mazica Party</td>\n",
       "      <td>5.48</td>\n",
       "      <td>131</td>\n",
       "      <td>Game</td>\n",
       "      <td>717.88</td>\n",
       "    </tr>\n",
       "    <tr>\n",
       "      <th>21797</th>\n",
       "      <td>Mazica Party</td>\n",
       "      <td>5.48</td>\n",
       "      <td>131</td>\n",
       "      <td>Magic</td>\n",
       "      <td>717.88</td>\n",
       "    </tr>\n",
       "    <tr>\n",
       "      <th>21798</th>\n",
       "      <td>Mazica Party</td>\n",
       "      <td>5.48</td>\n",
       "      <td>131</td>\n",
       "      <td>Fantasy</td>\n",
       "      <td>717.88</td>\n",
       "    </tr>\n",
       "  </tbody>\n",
       "</table>\n",
       "<p>21799 rows × 5 columns</p>\n",
       "</div>"
      ],
      "text/plain": [
       "                     title  score  scored_by     genres  score_weight\n",
       "0             Cowboy Bebop   8.77     661519     Action    5801521.63\n",
       "1             Cowboy Bebop   8.77     661519  Adventure    5801521.63\n",
       "2             Cowboy Bebop   8.77     661519     Comedy    5801521.63\n",
       "3             Cowboy Bebop   8.77     661519      Drama    5801521.63\n",
       "4             Cowboy Bebop   8.77     661519     Sci-Fi    5801521.63\n",
       "...                    ...    ...        ...        ...           ...\n",
       "21794  Blue Reflection Ray   5.49       2362      Magic      12967.38\n",
       "21795  Blue Reflection Ray   5.49       2362     School      12967.38\n",
       "21796         Mazica Party   5.48        131       Game        717.88\n",
       "21797         Mazica Party   5.48        131      Magic        717.88\n",
       "21798         Mazica Party   5.48        131    Fantasy        717.88\n",
       "\n",
       "[21799 rows x 5 columns]"
      ]
     },
     "execution_count": 164,
     "metadata": {},
     "output_type": "execute_result"
    }
   ],
   "source": [
    "#separate genres with delimiter: ,\n",
    "df_GAndS_res1 = (df_GAndS_res1.set_index(['title','score', 'scored_by'])\n",
    "   .apply(lambda x: x.str.split(',').explode())\n",
    "   .reset_index()) \n",
    "\n",
    "#remove whitespaces\n",
    "df_GAndS_res1['genres'] = df_GAndS_res1['genres'].str.strip()\n",
    "\n",
    "#add new column\n",
    "df_GAndS_res1['score_weight'] = df_GAndS_res1['score'] * df_GAndS_res1['scored_by']    \n",
    "df_GAndS_res1"
   ]
  },
  {
   "cell_type": "code",
   "execution_count": 165,
   "metadata": {
    "scrolled": false
   },
   "outputs": [
    {
     "data": {
      "text/html": [
       "<div>\n",
       "<style scoped>\n",
       "    .dataframe tbody tr th:only-of-type {\n",
       "        vertical-align: middle;\n",
       "    }\n",
       "\n",
       "    .dataframe tbody tr th {\n",
       "        vertical-align: top;\n",
       "    }\n",
       "\n",
       "    .dataframe thead th {\n",
       "        text-align: right;\n",
       "    }\n",
       "</style>\n",
       "<table border=\"1\" class=\"dataframe\">\n",
       "  <thead>\n",
       "    <tr style=\"text-align: right;\">\n",
       "      <th></th>\n",
       "      <th>genres</th>\n",
       "      <th>scored_by</th>\n",
       "      <th>score_weight</th>\n",
       "      <th>average</th>\n",
       "    </tr>\n",
       "  </thead>\n",
       "  <tbody>\n",
       "    <tr>\n",
       "      <th>0</th>\n",
       "      <td>Military</td>\n",
       "      <td>19676661</td>\n",
       "      <td>1.603970e+08</td>\n",
       "      <td>8.152</td>\n",
       "    </tr>\n",
       "    <tr>\n",
       "      <th>1</th>\n",
       "      <td>Thriller</td>\n",
       "      <td>15273987</td>\n",
       "      <td>1.241969e+08</td>\n",
       "      <td>8.131</td>\n",
       "    </tr>\n",
       "    <tr>\n",
       "      <th>2</th>\n",
       "      <td>Police</td>\n",
       "      <td>5722187</td>\n",
       "      <td>4.650316e+07</td>\n",
       "      <td>8.127</td>\n",
       "    </tr>\n",
       "    <tr>\n",
       "      <th>3</th>\n",
       "      <td>Samurai</td>\n",
       "      <td>3805315</td>\n",
       "      <td>3.089344e+07</td>\n",
       "      <td>8.118</td>\n",
       "    </tr>\n",
       "    <tr>\n",
       "      <th>4</th>\n",
       "      <td>Historical</td>\n",
       "      <td>13048577</td>\n",
       "      <td>1.049839e+08</td>\n",
       "      <td>8.046</td>\n",
       "    </tr>\n",
       "    <tr>\n",
       "      <th>5</th>\n",
       "      <td>Cars</td>\n",
       "      <td>747708</td>\n",
       "      <td>6.000694e+06</td>\n",
       "      <td>8.025</td>\n",
       "    </tr>\n",
       "    <tr>\n",
       "      <th>6</th>\n",
       "      <td>Drama</td>\n",
       "      <td>94938063</td>\n",
       "      <td>7.573744e+08</td>\n",
       "      <td>7.978</td>\n",
       "    </tr>\n",
       "    <tr>\n",
       "      <th>7</th>\n",
       "      <td>Parody</td>\n",
       "      <td>9120113</td>\n",
       "      <td>7.273190e+07</td>\n",
       "      <td>7.975</td>\n",
       "    </tr>\n",
       "    <tr>\n",
       "      <th>8</th>\n",
       "      <td>Sports</td>\n",
       "      <td>11523627</td>\n",
       "      <td>9.159062e+07</td>\n",
       "      <td>7.948</td>\n",
       "    </tr>\n",
       "    <tr>\n",
       "      <th>9</th>\n",
       "      <td>Super Power</td>\n",
       "      <td>38455080</td>\n",
       "      <td>3.055841e+08</td>\n",
       "      <td>7.947</td>\n",
       "    </tr>\n",
       "  </tbody>\n",
       "</table>\n",
       "</div>"
      ],
      "text/plain": [
       "        genres  scored_by  score_weight  average\n",
       "0     Military   19676661  1.603970e+08    8.152\n",
       "1     Thriller   15273987  1.241969e+08    8.131\n",
       "2       Police    5722187  4.650316e+07    8.127\n",
       "3      Samurai    3805315  3.089344e+07    8.118\n",
       "4   Historical   13048577  1.049839e+08    8.046\n",
       "5         Cars     747708  6.000694e+06    8.025\n",
       "6        Drama   94938063  7.573744e+08    7.978\n",
       "7       Parody    9120113  7.273190e+07    7.975\n",
       "8       Sports   11523627  9.159062e+07    7.948\n",
       "9  Super Power   38455080  3.055841e+08    7.947"
      ]
     },
     "execution_count": 165,
     "metadata": {},
     "output_type": "execute_result"
    }
   ],
   "source": [
    "df_GAndS_res1Grouped = df_GAndS_res1.groupby('genres').agg({'scored_by': 'sum', 'score_weight': 'sum'})\n",
    "df_GAndS_res1Grouped['average'] = round(df_GAndS_res1Grouped['score_weight'] / df_GAndS_res1Grouped['scored_by'], 3)\n",
    "df_GAndS_res1Grouped = df_GAndS_res1Grouped.sort_values(by='average', ascending=False).reset_index()\n",
    "df_GAndS_res1Grouped.head(10)"
   ]
  },
  {
   "cell_type": "code",
   "execution_count": 166,
   "metadata": {},
   "outputs": [
    {
     "data": {
      "text/html": [
       "<div>\n",
       "<style scoped>\n",
       "    .dataframe tbody tr th:only-of-type {\n",
       "        vertical-align: middle;\n",
       "    }\n",
       "\n",
       "    .dataframe tbody tr th {\n",
       "        vertical-align: top;\n",
       "    }\n",
       "\n",
       "    .dataframe thead th {\n",
       "        text-align: right;\n",
       "    }\n",
       "</style>\n",
       "<table border=\"1\" class=\"dataframe\">\n",
       "  <thead>\n",
       "    <tr style=\"text-align: right;\">\n",
       "      <th></th>\n",
       "      <th>genres</th>\n",
       "      <th>scored_by</th>\n",
       "      <th>score_weight</th>\n",
       "      <th>average</th>\n",
       "    </tr>\n",
       "  </thead>\n",
       "  <tbody>\n",
       "    <tr>\n",
       "      <th>32</th>\n",
       "      <td>Martial Arts</td>\n",
       "      <td>9118441</td>\n",
       "      <td>6.874061e+07</td>\n",
       "      <td>7.539</td>\n",
       "    </tr>\n",
       "    <tr>\n",
       "      <th>33</th>\n",
       "      <td>Shounen Ai</td>\n",
       "      <td>1525285</td>\n",
       "      <td>1.149074e+07</td>\n",
       "      <td>7.534</td>\n",
       "    </tr>\n",
       "    <tr>\n",
       "      <th>34</th>\n",
       "      <td>Game</td>\n",
       "      <td>14164154</td>\n",
       "      <td>1.066202e+08</td>\n",
       "      <td>7.527</td>\n",
       "    </tr>\n",
       "    <tr>\n",
       "      <th>35</th>\n",
       "      <td>Horror</td>\n",
       "      <td>15906693</td>\n",
       "      <td>1.188810e+08</td>\n",
       "      <td>7.474</td>\n",
       "    </tr>\n",
       "    <tr>\n",
       "      <th>36</th>\n",
       "      <td>Ecchi</td>\n",
       "      <td>30043421</td>\n",
       "      <td>2.151743e+08</td>\n",
       "      <td>7.162</td>\n",
       "    </tr>\n",
       "    <tr>\n",
       "      <th>37</th>\n",
       "      <td>Kids</td>\n",
       "      <td>3297099</td>\n",
       "      <td>2.342578e+07</td>\n",
       "      <td>7.105</td>\n",
       "    </tr>\n",
       "    <tr>\n",
       "      <th>38</th>\n",
       "      <td>Harem</td>\n",
       "      <td>24665478</td>\n",
       "      <td>1.739695e+08</td>\n",
       "      <td>7.053</td>\n",
       "    </tr>\n",
       "    <tr>\n",
       "      <th>39</th>\n",
       "      <td>Yaoi</td>\n",
       "      <td>8728</td>\n",
       "      <td>6.147015e+04</td>\n",
       "      <td>7.043</td>\n",
       "    </tr>\n",
       "    <tr>\n",
       "      <th>40</th>\n",
       "      <td>Shoujo Ai</td>\n",
       "      <td>1931813</td>\n",
       "      <td>1.349317e+07</td>\n",
       "      <td>6.985</td>\n",
       "    </tr>\n",
       "    <tr>\n",
       "      <th>41</th>\n",
       "      <td>Hentai</td>\n",
       "      <td>16252</td>\n",
       "      <td>1.068373e+05</td>\n",
       "      <td>6.574</td>\n",
       "    </tr>\n",
       "  </tbody>\n",
       "</table>\n",
       "</div>"
      ],
      "text/plain": [
       "          genres  scored_by  score_weight  average\n",
       "32  Martial Arts    9118441  6.874061e+07    7.539\n",
       "33    Shounen Ai    1525285  1.149074e+07    7.534\n",
       "34          Game   14164154  1.066202e+08    7.527\n",
       "35        Horror   15906693  1.188810e+08    7.474\n",
       "36         Ecchi   30043421  2.151743e+08    7.162\n",
       "37          Kids    3297099  2.342578e+07    7.105\n",
       "38         Harem   24665478  1.739695e+08    7.053\n",
       "39          Yaoi       8728  6.147015e+04    7.043\n",
       "40     Shoujo Ai    1931813  1.349317e+07    6.985\n",
       "41        Hentai      16252  1.068373e+05    6.574"
      ]
     },
     "execution_count": 166,
     "metadata": {},
     "output_type": "execute_result"
    }
   ],
   "source": [
    "df_GAndS_res1Grouped.tail(10)"
   ]
  },
  {
   "cell_type": "markdown",
   "metadata": {},
   "source": [
    "### Explanation\n",
    "\n",
    "Since observation (or animes) have multiple `genres`, we would first need to duplicate each observation per genre. After this, we compute for the weighted score which is done by multiplying the initial `score` average to the number of people who scored the observation (`scored_by`). This is done so that after aggregating the observations by their `genres`, we could compute for the weighted average for each `genre`.\n",
    "\n",
    "### Observation\n",
    "\n",
    "It can be seen that the `Military` genre is the highest rated genre among the 41 unique genres. It garnered the score of **8.152**. It was then followed by  `Thriller` and `Police` which got an average of **8.131** and **8.127** respectively. On the other hand, the lowest rated genre is `Hentai` which only got an average of **6.574**. It was followed by `Shoujo Ai` and `Yaoi` obtaining **6.985** and **7.043** respectively. "
   ]
  },
  {
   "cell_type": "markdown",
   "metadata": {},
   "source": [
    "### Visualization\n",
    "\n",
    "To get a better look at the data, we now plot the top and bottom 10 into bar graphs."
   ]
  },
  {
   "cell_type": "code",
   "execution_count": 198,
   "metadata": {},
   "outputs": [
    {
     "data": {
      "text/plain": [
       "(7.8, 8.2)"
      ]
     },
     "execution_count": 198,
     "metadata": {},
     "output_type": "execute_result"
    },
    {
     "data": {
      "image/png": "[encoded data removed]",
      "text/plain": [
       "<Figure size 864x432 with 1 Axes>"
      ]
     },
     "metadata": {
      "needs_background": "light"
     },
     "output_type": "display_data"
    }
   ],
   "source": [
    "viz_GAndS1 = df_GAndS_res1Grouped.head(10).plot.bar(figsize=(12,6), x='genres', y='average')\n",
    "viz_GAndS1.set_title(\"Top 10 Highest Rated Genres\")\n",
    "viz_GAndS1.set_ylabel('Genres')\n",
    "plt.ylim([7.8, 8.2])\n"
   ]
  },
  {
   "cell_type": "code",
   "execution_count": 196,
   "metadata": {},
   "outputs": [
    {
     "data": {
      "text/plain": [
       "(6.4, 7.8)"
      ]
     },
     "execution_count": 196,
     "metadata": {},
     "output_type": "execute_result"
    },
    {
     "data": {
      "image/png": "[encoded data removed]",
      "text/plain": [
       "<Figure size 864x432 with 1 Axes>"
      ]
     },
     "metadata": {
      "needs_background": "light"
     },
     "output_type": "display_data"
    }
   ],
   "source": [
    "viz_GAndS2 = df_GAndS_res1Grouped.tail(10).sort_values(by='average', ascending=True).plot.bar(figsize=(12,6), x='genres', y='average')\n",
    "viz_GAndS2.set_title(\"Top 10 Lowest Rated Genres\")\n",
    "viz_GAndS2.set_ylabel('Genres')\n",
    "plt.ylim([6.4, 7.8])"
   ]
  },
  {
   "cell_type": "code",
   "execution_count": null,
   "metadata": {},
   "outputs": [],
   "source": []
  }
 ],
 "metadata": {
  "kernelspec": {
   "display_name": "Python [conda env:root] *",
   "language": "python",
   "name": "conda-root-py"
  },
  "language_info": {
   "codemirror_mode": {
    "name": "ipython",
    "version": 3
   },
   "file_extension": ".py",
   "mimetype": "text/x-python",
   "name": "python",
   "nbconvert_exporter": "python",
   "pygments_lexer": "ipython3",
   "version": "3.8.5"
  }
 },
 "nbformat": 4,
 "nbformat_minor": 4
}

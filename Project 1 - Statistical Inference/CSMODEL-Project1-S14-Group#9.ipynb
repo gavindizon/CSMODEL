{
 "cells": [
  {
   "cell_type": "markdown",
   "metadata": {},
   "source": [
    "# Project 1 - Statistical Inference (DIZON, TANG, TEE)\n",
    "In this notebook, we will be exploring on the data from **MyAnimeList** which consists of anime-related data. We will be focusing on analyzing statistical-related inferences.\n",
    "\n",
    "## numpy, pandas, and matplotlib\n",
    "To start, we will be first importing the libraries that will be used to help us analyze the given data. The following libraries will be used:\n",
    "\n",
    "1.   **Numpy**\n",
    "2.   **Pandas**\n",
    "3.  **Matplotlib**\n",
    "4. **SciPy**\n"
   ]
  },
  {
   "cell_type": "code",
   "execution_count": 76,
   "metadata": {},
   "outputs": [],
   "source": [
    "import numpy as np\n",
    "import pandas as pd \n",
    "import matplotlib.pyplot as plt\n",
    "import scipy.stats as sp\n",
    "from scipy.stats import ttest_ind\n"
   ]
  },
  {
   "cell_type": "markdown",
   "metadata": {},
   "source": [
    "## The Dataset\n",
    "Next, we will be moving on to importing anime_list csv file. This will be the dataset that we will be working on. It contains over 23 variables (columns) and 18,162 observations (rows). Some of the variables will be ommitted from what we will be analyzing."
   ]
  },
  {
   "cell_type": "code",
   "execution_count": 77,
   "metadata": {},
   "outputs": [
    {
     "name": "stdout",
     "output_type": "stream",
     "text": [
      "<class 'pandas.core.frame.DataFrame'>\n",
      "RangeIndex: 18162 entries, 0 to 18161\n",
      "Data columns (total 23 columns):\n",
      " #   Column      Non-Null Count  Dtype  \n",
      "---  ------      --------------  -----  \n",
      " 0   mal_id      18162 non-null  int64  \n",
      " 1   title       18162 non-null  object \n",
      " 2   synopsis    18162 non-null  object \n",
      " 3   background  18162 non-null  object \n",
      " 4   aired       18162 non-null  object \n",
      " 5   airing      18162 non-null  int64  \n",
      " 6   duration    18162 non-null  object \n",
      " 7   episodes    18162 non-null  int64  \n",
      " 8   type        18162 non-null  object \n",
      " 9   favorites   18162 non-null  int64  \n",
      " 10  members     18162 non-null  int64  \n",
      " 11  rank        18162 non-null  float64\n",
      " 12  popularity  18162 non-null  int64  \n",
      " 13  score       18162 non-null  float64\n",
      " 14  scored_by   18162 non-null  int64  \n",
      " 15  rating      18162 non-null  object \n",
      " 16  premiered   18162 non-null  object \n",
      " 17  genres      18095 non-null  object \n",
      " 18  related     18162 non-null  object \n",
      " 19  status      18162 non-null  object \n",
      " 20  licensors   18162 non-null  object \n",
      " 21  producers   18162 non-null  object \n",
      " 22  studios     18162 non-null  object \n",
      "dtypes: float64(2), int64(7), object(14)\n",
      "memory usage: 3.2+ MB\n"
     ]
    }
   ],
   "source": [
    "df = pd.read_csv('https://raw.githubusercontent.com/gavindizon/CSMODEL/main/Project%201%20-%20Statistical%20Inference/csv/anime_list.csv')\n",
    "df.info()"
   ]
  },
  {
   "cell_type": "markdown",
   "metadata": {},
   "source": [
    "## Data Cleaning\n",
    "\n",
    "Before analyzing the data, we will first clean the data. Here, we will remove the uneeded variables and variables with null values. Although, some of the variables that have null values but with the proper context (e.g. Not Applicable) will be represented with a uniform sentinel value (`-` for an object/ string and `-1` for a number) instead of removing the whole column.\n",
    "\n",
    "In addition, since our analysis will be focusing on `TV` and `Movie` types we will be removing other types of Anime such as `OVA` and `ONA`."
   ]
  },
  {
   "cell_type": "code",
   "execution_count": 78,
   "metadata": {},
   "outputs": [],
   "source": [
    "df_cleaned = df.drop(['background', 'mal_id', 'synopsis', 'related'], 1)\n",
    "#Convert raw data types to their necessary datatypes\n",
    "df_cleaned['rank'] = df_cleaned['rank'].astype(int)\n",
    "df_cleaned = df_cleaned.dropna(subset= ['genres'], how= 'any')\n",
    "\n",
    "#Remove unnecessary part of dataset\n",
    "df_cleaned = df_cleaned[(df_cleaned['type'] == 'TV') | (df_cleaned['type'] == 'Movie')]\n",
    "#OVA, ONA\n",
    "\n",
    "df_cleaned = df_cleaned.reset_index()"
   ]
  },
  {
   "cell_type": "markdown",
   "metadata": {},
   "source": [
    "### Checking for Possible Duplicates\n",
    "\n",
    "Another thing that we could do is to check for possible duplicates, and we either merge these together or drop the others from the dataset depending on the context. In this dataset, there is one duplicate title found which is `Maou Gakuin no Futekigousha: Shijou Saikyou no Maou no Shiso, Tensei shite Shison-tachi no Gakkou e`. In the case of the duplicate, it can be seen below that one observation mostly consists of sentinel values. This just means that this observation is merely a duplicate thus we only need to remove it."
   ]
  },
  {
   "cell_type": "code",
   "execution_count": 79,
   "metadata": {},
   "outputs": [
    {
     "data": {
      "text/plain": [
       "Maou Gakuin no Futekigousha: Shijou Saikyou no Maou no Shiso, Tensei shite Shison-tachi no Gakkou e    2\n",
       "Koutetsujou no Kabaneri Movie 1: Tsudou Hikari                                                         1\n",
       "Nasu: Andalusia no Natsu                                                                               1\n",
       "Choro Q Dagram                                                                                         1\n",
       "Zhandou Wang Zhi Jufeng Zhan Hun 5                                                                     1\n",
       "                                                                                                      ..\n",
       "Henkei Sakuhin Dai 2-ban                                                                               1\n",
       "Cobra The Animation                                                                                    1\n",
       "Sougiya to Inu                                                                                         1\n",
       "Boku no Hero Academia the Movie 3: World Heroes' Mission                                               1\n",
       "Vampire Holmes                                                                                         1\n",
       "Name: title, Length: 8342, dtype: int64"
      ]
     },
     "execution_count": 79,
     "metadata": {},
     "output_type": "execute_result"
    }
   ],
   "source": [
    "df_cleaned['title'].value_counts()"
   ]
  },
  {
   "cell_type": "code",
   "execution_count": 80,
   "metadata": {},
   "outputs": [
    {
     "data": {
      "text/html": [
       "<div>\n",
       "<style scoped>\n",
       "    .dataframe tbody tr th:only-of-type {\n",
       "        vertical-align: middle;\n",
       "    }\n",
       "\n",
       "    .dataframe tbody tr th {\n",
       "        vertical-align: top;\n",
       "    }\n",
       "\n",
       "    .dataframe thead th {\n",
       "        text-align: right;\n",
       "    }\n",
       "</style>\n",
       "<table border=\"1\" class=\"dataframe\">\n",
       "  <thead>\n",
       "    <tr style=\"text-align: right;\">\n",
       "      <th></th>\n",
       "      <th>index</th>\n",
       "      <th>title</th>\n",
       "      <th>aired</th>\n",
       "      <th>airing</th>\n",
       "      <th>duration</th>\n",
       "      <th>episodes</th>\n",
       "      <th>type</th>\n",
       "      <th>favorites</th>\n",
       "      <th>members</th>\n",
       "      <th>rank</th>\n",
       "      <th>popularity</th>\n",
       "      <th>score</th>\n",
       "      <th>scored_by</th>\n",
       "      <th>rating</th>\n",
       "      <th>premiered</th>\n",
       "      <th>genres</th>\n",
       "      <th>status</th>\n",
       "      <th>licensors</th>\n",
       "      <th>producers</th>\n",
       "      <th>studios</th>\n",
       "    </tr>\n",
       "  </thead>\n",
       "  <tbody>\n",
       "    <tr>\n",
       "      <th>7470</th>\n",
       "      <td>16175</td>\n",
       "      <td>Maou Gakuin no Futekigousha: Shijou Saikyou no...</td>\n",
       "      <td>Jul 4, 2020 to Sep 26, 2020</td>\n",
       "      <td>0</td>\n",
       "      <td>23 min per ep</td>\n",
       "      <td>13</td>\n",
       "      <td>TV</td>\n",
       "      <td>3066</td>\n",
       "      <td>437602</td>\n",
       "      <td>2188</td>\n",
       "      <td>343</td>\n",
       "      <td>7.34</td>\n",
       "      <td>245721</td>\n",
       "      <td>R - 17+ (violence &amp; profanity)</td>\n",
       "      <td>Summer 2020</td>\n",
       "      <td>Action, Demons, Magic, Fantasy, School</td>\n",
       "      <td>Finished Airing</td>\n",
       "      <td>Aniplex of America</td>\n",
       "      <td>Aniplex, Kadokawa</td>\n",
       "      <td>SILVER LINK.</td>\n",
       "    </tr>\n",
       "    <tr>\n",
       "      <th>8269</th>\n",
       "      <td>17966</td>\n",
       "      <td>Maou Gakuin no Futekigousha: Shijou Saikyou no...</td>\n",
       "      <td>Not available</td>\n",
       "      <td>0</td>\n",
       "      <td>Unknown</td>\n",
       "      <td>-1</td>\n",
       "      <td>TV</td>\n",
       "      <td>100</td>\n",
       "      <td>18366</td>\n",
       "      <td>-1</td>\n",
       "      <td>3980</td>\n",
       "      <td>-1.00</td>\n",
       "      <td>-1</td>\n",
       "      <td>R - 17+ (violence &amp; profanity)</td>\n",
       "      <td>-</td>\n",
       "      <td>Action, Demons, Magic, Fantasy, School</td>\n",
       "      <td>Not yet aired</td>\n",
       "      <td>-</td>\n",
       "      <td>Aniplex</td>\n",
       "      <td>SILVER LINK.</td>\n",
       "    </tr>\n",
       "  </tbody>\n",
       "</table>\n",
       "</div>"
      ],
      "text/plain": [
       "      index                                              title  \\\n",
       "7470  16175  Maou Gakuin no Futekigousha: Shijou Saikyou no...   \n",
       "8269  17966  Maou Gakuin no Futekigousha: Shijou Saikyou no...   \n",
       "\n",
       "                            aired  airing       duration  episodes type  \\\n",
       "7470  Jul 4, 2020 to Sep 26, 2020       0  23 min per ep        13   TV   \n",
       "8269                Not available       0        Unknown        -1   TV   \n",
       "\n",
       "      favorites  members  rank  popularity  score  scored_by  \\\n",
       "7470       3066   437602  2188         343   7.34     245721   \n",
       "8269        100    18366    -1        3980  -1.00         -1   \n",
       "\n",
       "                              rating    premiered  \\\n",
       "7470  R - 17+ (violence & profanity)  Summer 2020   \n",
       "8269  R - 17+ (violence & profanity)            -   \n",
       "\n",
       "                                      genres           status  \\\n",
       "7470  Action, Demons, Magic, Fantasy, School  Finished Airing   \n",
       "8269  Action, Demons, Magic, Fantasy, School    Not yet aired   \n",
       "\n",
       "               licensors          producers       studios  \n",
       "7470  Aniplex of America  Aniplex, Kadokawa  SILVER LINK.  \n",
       "8269                   -            Aniplex  SILVER LINK.  "
      ]
     },
     "execution_count": 80,
     "metadata": {},
     "output_type": "execute_result"
    }
   ],
   "source": [
    "df_cleaned.loc[df_cleaned['title'] == 'Maou Gakuin no Futekigousha: Shijou Saikyou no Maou no Shiso, Tensei shite Shison-tachi no Gakkou e' ]"
   ]
  },
  {
   "cell_type": "code",
   "execution_count": 81,
   "metadata": {},
   "outputs": [
    {
     "name": "stdout",
     "output_type": "stream",
     "text": [
      "<class 'pandas.core.frame.DataFrame'>\n",
      "RangeIndex: 8342 entries, 0 to 8341\n",
      "Data columns (total 21 columns):\n",
      " #   Column      Non-Null Count  Dtype  \n",
      "---  ------      --------------  -----  \n",
      " 0   level_0     8342 non-null   int64  \n",
      " 1   index       8342 non-null   int64  \n",
      " 2   title       8342 non-null   object \n",
      " 3   aired       8342 non-null   object \n",
      " 4   airing      8342 non-null   int64  \n",
      " 5   duration    8342 non-null   object \n",
      " 6   episodes    8342 non-null   int64  \n",
      " 7   type        8342 non-null   object \n",
      " 8   favorites   8342 non-null   int64  \n",
      " 9   members     8342 non-null   int64  \n",
      " 10  rank        8342 non-null   int32  \n",
      " 11  popularity  8342 non-null   int64  \n",
      " 12  score       8342 non-null   float64\n",
      " 13  scored_by   8342 non-null   int64  \n",
      " 14  rating      8342 non-null   object \n",
      " 15  premiered   8342 non-null   object \n",
      " 16  genres      8342 non-null   object \n",
      " 17  status      8342 non-null   object \n",
      " 18  licensors   8342 non-null   object \n",
      " 19  producers   8342 non-null   object \n",
      " 20  studios     8342 non-null   object \n",
      "dtypes: float64(1), int32(1), int64(8), object(11)\n",
      "memory usage: 1.3+ MB\n"
     ]
    }
   ],
   "source": [
    "df_cleaned = df_cleaned.drop(df_cleaned.index[8269])\n",
    "df_cleaned = df_cleaned.reset_index()\n",
    "df_cleaned.info()"
   ]
  },
  {
   "cell_type": "code",
   "execution_count": 82,
   "metadata": {},
   "outputs": [
    {
     "data": {
      "text/plain": [
       "array(['R - 17+ (violence & profanity)', 'PG-13 - Teens 13 or older',\n",
       "       'PG - Children', 'R+ - Mild Nudity', 'G - All Ages', 'None',\n",
       "       'Rx - Hentai'], dtype=object)"
      ]
     },
     "execution_count": 82,
     "metadata": {},
     "output_type": "execute_result"
    }
   ],
   "source": [
    "df_cleaned['rating'].unique()"
   ]
  },
  {
   "cell_type": "markdown",
   "metadata": {},
   "source": [
    "## Exploratory Data Analysis\n",
    "\n",
    "After the data was cleaned, we proceed now to analyzing it. Since the dataset was created for a recommendation system, we will be exploring possible correlations between the presented variables. Primarily, we will be focusing on three things which are the ff:\n",
    "\n",
    "1. Do the score significantly differ dependeing on the age_group (`rating`)? \n",
    "2. Is there a correlation between the number of favorites of an anime to it's score?\n",
    "3. Do the number of episodes in anime affect how popular it is?"
   ]
  },
  {
   "cell_type": "markdown",
   "metadata": {},
   "source": [
    "# 1. Do the score significantly differ dependeing on the age_group (`rating`)? \n",
    "\n",
    "To start, we will be exploring the correlation between the rating and the score. In the data given, there are 7 kinds of rating. \n",
    "- None\n",
    "- G - All Ages\n",
    "- PG - Children\n",
    "- PG - Teens 13 or older\n",
    "- R - 17+ (violence & profanity)\n",
    "- R+ - Mild Nudity\n",
    "- Rx - Hentai\n",
    "\n",
    "## Further Data Preprocessing\n",
    "\n",
    "We will be excluding the `None` type of rating in this analysis since we would be exploring only the rated types. Likewise, we will be grouping the observations based on their ratings."
   ]
  },
  {
   "cell_type": "code",
   "execution_count": 83,
   "metadata": {},
   "outputs": [
    {
     "name": "stdout",
     "output_type": "stream",
     "text": [
      "<class 'pandas.core.frame.DataFrame'>\n",
      "Int64Index: 5935 entries, 0 to 8161\n",
      "Data columns (total 21 columns):\n",
      " #   Column      Non-Null Count  Dtype  \n",
      "---  ------      --------------  -----  \n",
      " 0   level_0     5935 non-null   int64  \n",
      " 1   index       5935 non-null   int64  \n",
      " 2   title       5935 non-null   object \n",
      " 3   aired       5935 non-null   object \n",
      " 4   airing      5935 non-null   int64  \n",
      " 5   duration    5935 non-null   object \n",
      " 6   episodes    5935 non-null   int64  \n",
      " 7   type        5935 non-null   object \n",
      " 8   favorites   5935 non-null   int64  \n",
      " 9   members     5935 non-null   int64  \n",
      " 10  rank        5935 non-null   int32  \n",
      " 11  popularity  5935 non-null   int64  \n",
      " 12  score       5935 non-null   float64\n",
      " 13  scored_by   5935 non-null   int64  \n",
      " 14  rating      5935 non-null   object \n",
      " 15  premiered   5935 non-null   object \n",
      " 16  genres      5935 non-null   object \n",
      " 17  status      5935 non-null   object \n",
      " 18  licensors   5935 non-null   object \n",
      " 19  producers   5935 non-null   object \n",
      " 20  studios     5935 non-null   object \n",
      "dtypes: float64(1), int32(1), int64(8), object(11)\n",
      "memory usage: 996.9+ KB\n"
     ]
    }
   ],
   "source": [
    "#creates a dataframe that excludes the None Rating Type and Sentinel Value Rows from score\n",
    "df_eda1 = df_cleaned.loc[(df_cleaned['rating'] != 'None') & (df_cleaned['score'] > -1.0)]\n",
    "\n",
    "\n",
    "df_eda1.info()\n"
   ]
  },
  {
   "cell_type": "markdown",
   "metadata": {},
   "source": [
    "## Numerical Summaries\n",
    "\n",
    "Here, we will be looking for the measure of central tendencies, dispersion, and possible correlation between the rating and the score."
   ]
  },
  {
   "cell_type": "code",
   "execution_count": 84,
   "metadata": {},
   "outputs": [
    {
     "data": {
      "text/html": [
       "<div>\n",
       "<style scoped>\n",
       "    .dataframe tbody tr th:only-of-type {\n",
       "        vertical-align: middle;\n",
       "    }\n",
       "\n",
       "    .dataframe tbody tr th {\n",
       "        vertical-align: top;\n",
       "    }\n",
       "\n",
       "    .dataframe thead tr th {\n",
       "        text-align: left;\n",
       "    }\n",
       "\n",
       "    .dataframe thead tr:last-of-type th {\n",
       "        text-align: right;\n",
       "    }\n",
       "</style>\n",
       "<table border=\"1\" class=\"dataframe\">\n",
       "  <thead>\n",
       "    <tr>\n",
       "      <th></th>\n",
       "      <th colspan=\"4\" halign=\"left\">score</th>\n",
       "    </tr>\n",
       "    <tr>\n",
       "      <th></th>\n",
       "      <th>mean</th>\n",
       "      <th>median</th>\n",
       "      <th>std</th>\n",
       "      <th>mode</th>\n",
       "    </tr>\n",
       "    <tr>\n",
       "      <th>rating</th>\n",
       "      <th></th>\n",
       "      <th></th>\n",
       "      <th></th>\n",
       "      <th></th>\n",
       "    </tr>\n",
       "  </thead>\n",
       "  <tbody>\n",
       "    <tr>\n",
       "      <th>G - All Ages</th>\n",
       "      <td>6.198567</td>\n",
       "      <td>6.230</td>\n",
       "      <td>0.857516</td>\n",
       "      <td>6.68</td>\n",
       "    </tr>\n",
       "    <tr>\n",
       "      <th>PG - Children</th>\n",
       "      <td>6.566311</td>\n",
       "      <td>6.600</td>\n",
       "      <td>0.676875</td>\n",
       "      <td>6.39</td>\n",
       "    </tr>\n",
       "    <tr>\n",
       "      <th>PG-13 - Teens 13 or older</th>\n",
       "      <td>6.952306</td>\n",
       "      <td>7.020</td>\n",
       "      <td>0.827165</td>\n",
       "      <td>7.04</td>\n",
       "    </tr>\n",
       "    <tr>\n",
       "      <th>R - 17+ (violence &amp; profanity)</th>\n",
       "      <td>7.237803</td>\n",
       "      <td>7.330</td>\n",
       "      <td>0.860957</td>\n",
       "      <td>7.26</td>\n",
       "    </tr>\n",
       "    <tr>\n",
       "      <th>R+ - Mild Nudity</th>\n",
       "      <td>6.522184</td>\n",
       "      <td>6.635</td>\n",
       "      <td>1.039909</td>\n",
       "      <td>6.63</td>\n",
       "    </tr>\n",
       "    <tr>\n",
       "      <th>Rx - Hentai</th>\n",
       "      <td>5.725000</td>\n",
       "      <td>5.760</td>\n",
       "      <td>0.941483</td>\n",
       "      <td>5.33</td>\n",
       "    </tr>\n",
       "  </tbody>\n",
       "</table>\n",
       "</div>"
      ],
      "text/plain": [
       "                                   score                       \n",
       "                                    mean median       std  mode\n",
       "rating                                                         \n",
       "G - All Ages                    6.198567  6.230  0.857516  6.68\n",
       "PG - Children                   6.566311  6.600  0.676875  6.39\n",
       "PG-13 - Teens 13 or older       6.952306  7.020  0.827165  7.04\n",
       "R - 17+ (violence & profanity)  7.237803  7.330  0.860957  7.26\n",
       "R+ - Mild Nudity                6.522184  6.635  1.039909  6.63\n",
       "Rx - Hentai                     5.725000  5.760  0.941483  5.33"
      ]
     },
     "execution_count": 84,
     "metadata": {},
     "output_type": "execute_result"
    }
   ],
   "source": [
    "df_eda1_num = df_eda1.groupby('rating').agg({'score': [\"mean\", \"median\", \"std\", lambda x:x.value_counts().index[0]]})\n",
    "df_eda1_num.rename(columns={'<lambda_0>': 'mode'}, inplace=True)\n",
    "df_eda1_num"
   ]
  },
  {
   "cell_type": "markdown",
   "metadata": {},
   "source": [
    "To check for the possible correlation between the rating and the average score, we will be representing the ratings through a numerical value with `0` being the lowest which will be represented by the `G - All Ages` and `5` being the highest which will be represented by `Rx - Hentai`"
   ]
  },
  {
   "cell_type": "code",
   "execution_count": 85,
   "metadata": {},
   "outputs": [
    {
     "data": {
      "text/plain": [
       "-0.2207063311724617"
      ]
     },
     "execution_count": 85,
     "metadata": {},
     "output_type": "execute_result"
    }
   ],
   "source": [
    "df_eda1corr = (df_eda1_num.reset_index()).rename(columns={'': 'rating'}).reset_index().rename(columns={'': \"num_value\"})\n",
    "\n",
    "df_eda1corr['index']['num_value'].corr(df_eda1corr['score']['mean'])"
   ]
  },
  {
   "cell_type": "markdown",
   "metadata": {},
   "source": [
    "### Observation\n",
    "\n",
    "It can be seen that there is a negatively very weak correlation between the rating and the scores. This means that there is a very weak relationship where in as the rating is intended for higher-aged audience the more the score will dip.\n",
    "\n",
    "## Visualization"
   ]
  },
  {
   "cell_type": "code",
   "execution_count": 86,
   "metadata": {},
   "outputs": [
    {
     "data": {
      "image/png": "[encoded data removed]",
      "text/plain": [
       "<Figure size 864x432 with 1 Axes>"
      ]
     },
     "metadata": {
      "needs_background": "light"
     },
     "output_type": "display_data"
    }
   ],
   "source": [
    "df_eda1_viz = df_eda1corr\n",
    "df_eda1_viz.columns = df_eda1corr.columns.droplevel()\n",
    "\n",
    "viz_eda1 = df_eda1_viz.plot.bar(figsize=(12,6), x='rating', y='mean')\n",
    "viz_eda1.set_title(\"Average Score per Rating\")\n",
    "viz_eda1.set_ylabel('Scores')\n",
    "plt.show()\n"
   ]
  },
  {
   "cell_type": "markdown",
   "metadata": {},
   "source": [
    "### Observation\n",
    "It can be seen that the rating with the highest average in terms of score is the `R-17+ (Violence & Profanity)` rating attaining `7.23`. It was then followed by `PG-13 - Teens 13 or older` and `PG-Children` attaining an average of `6.95` and `6.59` respectively. The lowest scored ratings are `Rx - Hentai`, `R+ - Mild Nudity`, and `G - All Ages` which got `5.73`, `6.20`, and `6.52` respectively."
   ]
  },
  {
   "cell_type": "markdown",
   "metadata": {},
   "source": [
    "# 2. Is there a correlation between the number of favorites of an anime to its score?\n",
    "\n",
    "The next EDA that we want to analyze whether there is a possible correlation between the number of times an anime is favorited with regards to the score.\n",
    "\n",
    "## Further Data Preprocessing\n",
    "\n",
    "For that, we first check whether there are null/ sentinel values for the columns of `score` and `favorites`.\n"
   ]
  },
  {
   "cell_type": "code",
   "execution_count": 87,
   "metadata": {},
   "outputs": [
    {
     "data": {
      "text/html": [
       "<div>\n",
       "<style scoped>\n",
       "    .dataframe tbody tr th:only-of-type {\n",
       "        vertical-align: middle;\n",
       "    }\n",
       "\n",
       "    .dataframe tbody tr th {\n",
       "        vertical-align: top;\n",
       "    }\n",
       "\n",
       "    .dataframe thead th {\n",
       "        text-align: right;\n",
       "    }\n",
       "</style>\n",
       "<table border=\"1\" class=\"dataframe\">\n",
       "  <thead>\n",
       "    <tr style=\"text-align: right;\">\n",
       "      <th></th>\n",
       "      <th>score</th>\n",
       "      <th>favorites</th>\n",
       "    </tr>\n",
       "  </thead>\n",
       "  <tbody>\n",
       "    <tr>\n",
       "      <th>0</th>\n",
       "      <td>8.77</td>\n",
       "      <td>59968</td>\n",
       "    </tr>\n",
       "    <tr>\n",
       "      <th>1</th>\n",
       "      <td>8.39</td>\n",
       "      <td>1063</td>\n",
       "    </tr>\n",
       "    <tr>\n",
       "      <th>2</th>\n",
       "      <td>8.23</td>\n",
       "      <td>11882</td>\n",
       "    </tr>\n",
       "    <tr>\n",
       "      <th>3</th>\n",
       "      <td>7.27</td>\n",
       "      <td>512</td>\n",
       "    </tr>\n",
       "    <tr>\n",
       "      <th>4</th>\n",
       "      <td>6.97</td>\n",
       "      <td>10</td>\n",
       "    </tr>\n",
       "    <tr>\n",
       "      <th>...</th>\n",
       "      <td>...</td>\n",
       "      <td>...</td>\n",
       "    </tr>\n",
       "    <tr>\n",
       "      <th>8337</th>\n",
       "      <td>-1.00</td>\n",
       "      <td>22</td>\n",
       "    </tr>\n",
       "    <tr>\n",
       "      <th>8338</th>\n",
       "      <td>-1.00</td>\n",
       "      <td>611</td>\n",
       "    </tr>\n",
       "    <tr>\n",
       "      <th>8339</th>\n",
       "      <td>-1.00</td>\n",
       "      <td>1</td>\n",
       "    </tr>\n",
       "    <tr>\n",
       "      <th>8340</th>\n",
       "      <td>-1.00</td>\n",
       "      <td>0</td>\n",
       "    </tr>\n",
       "    <tr>\n",
       "      <th>8341</th>\n",
       "      <td>-1.00</td>\n",
       "      <td>0</td>\n",
       "    </tr>\n",
       "  </tbody>\n",
       "</table>\n",
       "<p>8342 rows × 2 columns</p>\n",
       "</div>"
      ],
      "text/plain": [
       "      score  favorites\n",
       "0      8.77      59968\n",
       "1      8.39       1063\n",
       "2      8.23      11882\n",
       "3      7.27        512\n",
       "4      6.97         10\n",
       "...     ...        ...\n",
       "8337  -1.00         22\n",
       "8338  -1.00        611\n",
       "8339  -1.00          1\n",
       "8340  -1.00          0\n",
       "8341  -1.00          0\n",
       "\n",
       "[8342 rows x 2 columns]"
      ]
     },
     "execution_count": 87,
     "metadata": {},
     "output_type": "execute_result"
    }
   ],
   "source": [
    "df_eda2 = df_cleaned[['score', 'favorites']]\n",
    "df_eda2"
   ]
  },
  {
   "cell_type": "code",
   "execution_count": 88,
   "metadata": {},
   "outputs": [
    {
     "data": {
      "text/plain": [
       "favorites\n",
       "1         391\n",
       "2         291\n",
       "3         228\n",
       "4         156\n",
       "5         154\n",
       "         ... \n",
       "1266        1\n",
       "1280        1\n",
       "1284        1\n",
       "1285        1\n",
       "175658      1\n",
       "Length: 1447, dtype: int64"
      ]
     },
     "execution_count": 88,
     "metadata": {},
     "output_type": "execute_result"
    }
   ],
   "source": [
    "df_eda2 = df_eda2.drop(df_eda2[df_eda2['score'] == -1.00].index)\n",
    "df_eda2 = df_eda2.drop(df_eda2[df_eda2['favorites'] == 0].index)\n",
    "df_eda2.value_counts(\"favorites\")"
   ]
  },
  {
   "cell_type": "markdown",
   "metadata": {},
   "source": [
    "## Removing Outliers and Computing for the Correlation\n",
    "\n",
    "Now, we remove possible outliers so that our analysis will not be influenced by it. Afterwhich, we compute for the correlation between the scores and the number of ratings."
   ]
  },
  {
   "cell_type": "code",
   "execution_count": 89,
   "metadata": {},
   "outputs": [
    {
     "data": {
      "text/html": [
       "<div>\n",
       "<style scoped>\n",
       "    .dataframe tbody tr th:only-of-type {\n",
       "        vertical-align: middle;\n",
       "    }\n",
       "\n",
       "    .dataframe tbody tr th {\n",
       "        vertical-align: top;\n",
       "    }\n",
       "\n",
       "    .dataframe thead th {\n",
       "        text-align: right;\n",
       "    }\n",
       "</style>\n",
       "<table border=\"1\" class=\"dataframe\">\n",
       "  <thead>\n",
       "    <tr style=\"text-align: right;\">\n",
       "      <th></th>\n",
       "      <th>score</th>\n",
       "      <th>favorites</th>\n",
       "    </tr>\n",
       "  </thead>\n",
       "  <tbody>\n",
       "    <tr>\n",
       "      <th>1</th>\n",
       "      <td>8.39</td>\n",
       "      <td>1063</td>\n",
       "    </tr>\n",
       "    <tr>\n",
       "      <th>2</th>\n",
       "      <td>8.23</td>\n",
       "      <td>11882</td>\n",
       "    </tr>\n",
       "    <tr>\n",
       "      <th>3</th>\n",
       "      <td>7.27</td>\n",
       "      <td>512</td>\n",
       "    </tr>\n",
       "    <tr>\n",
       "      <th>4</th>\n",
       "      <td>6.97</td>\n",
       "      <td>10</td>\n",
       "    </tr>\n",
       "    <tr>\n",
       "      <th>5</th>\n",
       "      <td>7.94</td>\n",
       "      <td>1770</td>\n",
       "    </tr>\n",
       "    <tr>\n",
       "      <th>...</th>\n",
       "      <td>...</td>\n",
       "      <td>...</td>\n",
       "    </tr>\n",
       "    <tr>\n",
       "      <th>8156</th>\n",
       "      <td>6.17</td>\n",
       "      <td>119</td>\n",
       "    </tr>\n",
       "    <tr>\n",
       "      <th>8158</th>\n",
       "      <td>6.97</td>\n",
       "      <td>32</td>\n",
       "    </tr>\n",
       "    <tr>\n",
       "      <th>8159</th>\n",
       "      <td>5.97</td>\n",
       "      <td>278</td>\n",
       "    </tr>\n",
       "    <tr>\n",
       "      <th>8161</th>\n",
       "      <td>5.49</td>\n",
       "      <td>62</td>\n",
       "    </tr>\n",
       "    <tr>\n",
       "      <th>8264</th>\n",
       "      <td>5.48</td>\n",
       "      <td>5</td>\n",
       "    </tr>\n",
       "  </tbody>\n",
       "</table>\n",
       "<p>5304 rows × 2 columns</p>\n",
       "</div>"
      ],
      "text/plain": [
       "      score  favorites\n",
       "1      8.39       1063\n",
       "2      8.23      11882\n",
       "3      7.27        512\n",
       "4      6.97         10\n",
       "5      7.94       1770\n",
       "...     ...        ...\n",
       "8156   6.17        119\n",
       "8158   6.97         32\n",
       "8159   5.97        278\n",
       "8161   5.49         62\n",
       "8264   5.48          5\n",
       "\n",
       "[5304 rows x 2 columns]"
      ]
     },
     "execution_count": 89,
     "metadata": {},
     "output_type": "execute_result"
    }
   ],
   "source": [
    "z_scores = np.abs(sp.stats.zscore(df_eda2))\n",
    "\n",
    "filtered_entries = (z_scores < 3).all(axis=1)\n",
    "new_df = df_eda2[filtered_entries]\n",
    "\n",
    "new_df\n"
   ]
  },
  {
   "cell_type": "markdown",
   "metadata": {},
   "source": [
    "### "
   ]
  },
  {
   "cell_type": "code",
   "execution_count": 90,
   "metadata": {},
   "outputs": [
    {
     "ename": "NameError",
     "evalue": "name 'df_sample' is not defined",
     "output_type": "error",
     "traceback": [
      "\u001b[1;31m---------------------------------------------------------------------------\u001b[0m",
      "\u001b[1;31mNameError\u001b[0m                                 Traceback (most recent call last)",
      "\u001b[1;32m<ipython-input-90-2503b24b2465>\u001b[0m in \u001b[0;36m<module>\u001b[1;34m\u001b[0m\n\u001b[1;32m----> 1\u001b[1;33m \u001b[0mdf_sample\u001b[0m\u001b[1;33m.\u001b[0m\u001b[0mgroupby\u001b[0m\u001b[1;33m(\u001b[0m\u001b[1;34m\"type_1\"\u001b[0m\u001b[1;33m)\u001b[0m\u001b[1;33m.\u001b[0m\u001b[0magg\u001b[0m\u001b[1;33m(\u001b[0m\u001b[1;33m{\u001b[0m\u001b[1;34m\"attack\"\u001b[0m\u001b[1;33m:\u001b[0m \u001b[1;33m[\u001b[0m\u001b[1;34m\"mean\"\u001b[0m\u001b[1;33m,\u001b[0m \u001b[1;34m\"std\"\u001b[0m\u001b[1;33m]\u001b[0m\u001b[1;33m}\u001b[0m\u001b[1;33m)\u001b[0m\u001b[1;33m\u001b[0m\u001b[1;33m\u001b[0m\u001b[0m\n\u001b[0m",
      "\u001b[1;31mNameError\u001b[0m: name 'df_sample' is not defined"
     ]
    }
   ],
   "source": [
    "df_sample.groupby(\"type_1\").agg({\"attack\": [\"mean\", \"std\"]})"
   ]
  },
  {
   "cell_type": "markdown",
   "metadata": {},
   "source": [
    "### Observation\n",
    "\n",
    "As we can see, there is a positive weak correlation between the number of favorites gained by the anime and its average score. We then visualize the result through a scatterplot\n",
    "\n",
    "## Visualization"
   ]
  },
  {
   "cell_type": "code",
   "execution_count": null,
   "metadata": {},
   "outputs": [],
   "source": [
    "new_df.plot.scatter('favorites', 'score')"
   ]
  },
  {
   "cell_type": "markdown",
   "metadata": {},
   "source": [
    "### Observation\n",
    "\n",
    "As we can see, there is a positively weak correlation between the number of times at item is favorited `favorites` and the average `score` of a title."
   ]
  },
  {
   "cell_type": "markdown",
   "metadata": {},
   "source": [
    "# 3. Do the studios affect the anime's popularity?\n",
    "This will be checking whether the studio has an effect on an anime's popularity\n",
    "\n",
    "To answer this we will be using:\n",
    "- studios\n",
    "- popularity\n",
    "\n",
    "We will only be using observation with 1 anime studio in order to avoid diluting the results\n",
    "To make the data more accurate and easy to read, only studios with more than 50 observations will be taken into account\n",
    "\n"
   ]
  },
  {
   "cell_type": "markdown",
   "metadata": {},
   "source": [
    "# Further data preprocessing\n",
    "\n",
    "Cleaning the data further, we filter out any observations with more than 1 studio (those with the \",\" present) and also filter out any observations whose studio is a sentinel value \"-\".\n",
    "studios with less than 50 instances of observations will also be filtered out"
   ]
  },
  {
   "cell_type": "code",
   "execution_count": 91,
   "metadata": {},
   "outputs": [
    {
     "data": {
      "text/plain": [
       "0         44\n",
       "1        542\n",
       "2        213\n",
       "3       1535\n",
       "4       4514\n",
       "        ... \n",
       "8323    3166\n",
       "8324    5065\n",
       "8327    4715\n",
       "8332    1801\n",
       "8338    2387\n",
       "Name: popularity, Length: 2906, dtype: int64"
      ]
     },
     "execution_count": 91,
     "metadata": {},
     "output_type": "execute_result"
    }
   ],
   "source": [
    "df_cleaned['studios'].unique()\n",
    "df_eda3 = df_cleaned.drop(df_cleaned[df_cleaned['studios'].str.contains(\",\", case=True) == True].index)\n",
    "df_eda3 = df_eda3.drop(df_eda3[(df_eda3['studios'] == '-') == True].index)\n",
    "\n",
    "df_eda3 = df_eda3[df_eda3.groupby('studios')['studios'].transform('size') >= 50]\n",
    "df_eda3['popularity']"
   ]
  },
  {
   "cell_type": "markdown",
   "metadata": {},
   "source": [
    "# Numerical Summaries and Correlation computation\n"
   ]
  },
  {
   "cell_type": "code",
   "execution_count": 92,
   "metadata": {},
   "outputs": [
    {
     "data": {
      "text/plain": [
       "Toei Animation          521\n",
       "Sunrise                 248\n",
       "Madhouse                199\n",
       "Studio Deen             177\n",
       "TMS Entertainment       175\n",
       "J.C.Staff               172\n",
       "Nippon Animation        148\n",
       "OLM                     143\n",
       "Studio Pierrot          136\n",
       "Production I.G          130\n",
       "Shin-Ei Animation       128\n",
       "A-1 Pictures            110\n",
       "Tatsunoko Production    102\n",
       "DLE                      78\n",
       "Bones                    78\n",
       "Gonzo                    74\n",
       "Xebec                    67\n",
       "Shaft                    61\n",
       "Kyoto Animation          55\n",
       "SILVER LINK.             52\n",
       "Doga Kobo                52\n",
       "Name: studios, dtype: int64"
      ]
     },
     "execution_count": 92,
     "metadata": {},
     "output_type": "execute_result"
    }
   ],
   "source": [
    "df_eda3['studios'].value_counts()"
   ]
  },
  {
   "cell_type": "code",
   "execution_count": 93,
   "metadata": {},
   "outputs": [
    {
     "data": {
      "text/plain": [
       "popularity\n",
       "4615     3\n",
       "2576     3\n",
       "4006     3\n",
       "2339     2\n",
       "3964     2\n",
       "        ..\n",
       "2564     1\n",
       "2569     1\n",
       "2571     1\n",
       "2574     1\n",
       "17962    1\n",
       "Length: 2759, dtype: int64"
      ]
     },
     "execution_count": 93,
     "metadata": {},
     "output_type": "execute_result"
    }
   ],
   "source": [
    "df_eda3.value_counts('popularity')"
   ]
  },
  {
   "cell_type": "code",
   "execution_count": 94,
   "metadata": {},
   "outputs": [
    {
     "data": {
      "text/html": [
       "<div>\n",
       "<style scoped>\n",
       "    .dataframe tbody tr th:only-of-type {\n",
       "        vertical-align: middle;\n",
       "    }\n",
       "\n",
       "    .dataframe tbody tr th {\n",
       "        vertical-align: top;\n",
       "    }\n",
       "\n",
       "    .dataframe thead tr th {\n",
       "        text-align: left;\n",
       "    }\n",
       "\n",
       "    .dataframe thead tr:last-of-type th {\n",
       "        text-align: right;\n",
       "    }\n",
       "</style>\n",
       "<table border=\"1\" class=\"dataframe\">\n",
       "  <thead>\n",
       "    <tr>\n",
       "      <th></th>\n",
       "      <th colspan=\"3\" halign=\"left\">popularity</th>\n",
       "    </tr>\n",
       "    <tr>\n",
       "      <th></th>\n",
       "      <th>mean</th>\n",
       "      <th>median</th>\n",
       "      <th>std</th>\n",
       "    </tr>\n",
       "    <tr>\n",
       "      <th>studios</th>\n",
       "      <th></th>\n",
       "      <th></th>\n",
       "      <th></th>\n",
       "    </tr>\n",
       "  </thead>\n",
       "  <tbody>\n",
       "    <tr>\n",
       "      <th>DLE</th>\n",
       "      <td>12191.628205</td>\n",
       "      <td>12808.0</td>\n",
       "      <td>3242.524025</td>\n",
       "    </tr>\n",
       "    <tr>\n",
       "      <th>Shin-Ei Animation</th>\n",
       "      <td>9262.898438</td>\n",
       "      <td>8850.0</td>\n",
       "      <td>3713.773739</td>\n",
       "    </tr>\n",
       "    <tr>\n",
       "      <th>Tatsunoko Production</th>\n",
       "      <td>8997.039216</td>\n",
       "      <td>9662.0</td>\n",
       "      <td>3765.696314</td>\n",
       "    </tr>\n",
       "    <tr>\n",
       "      <th>Nippon Animation</th>\n",
       "      <td>8902.452703</td>\n",
       "      <td>9020.5</td>\n",
       "      <td>3278.468579</td>\n",
       "    </tr>\n",
       "    <tr>\n",
       "      <th>Toei Animation</th>\n",
       "      <td>7809.132438</td>\n",
       "      <td>8233.0</td>\n",
       "      <td>4250.017699</td>\n",
       "    </tr>\n",
       "    <tr>\n",
       "      <th>TMS Entertainment</th>\n",
       "      <td>6863.251429</td>\n",
       "      <td>5117.0</td>\n",
       "      <td>5101.514537</td>\n",
       "    </tr>\n",
       "    <tr>\n",
       "      <th>OLM</th>\n",
       "      <td>5966.314685</td>\n",
       "      <td>4959.0</td>\n",
       "      <td>3911.698827</td>\n",
       "    </tr>\n",
       "    <tr>\n",
       "      <th>Sunrise</th>\n",
       "      <td>5538.826613</td>\n",
       "      <td>5212.5</td>\n",
       "      <td>3694.298632</td>\n",
       "    </tr>\n",
       "    <tr>\n",
       "      <th>Studio Pierrot</th>\n",
       "      <td>5175.911765</td>\n",
       "      <td>4215.0</td>\n",
       "      <td>4322.115791</td>\n",
       "    </tr>\n",
       "    <tr>\n",
       "      <th>Studio Deen</th>\n",
       "      <td>4686.864407</td>\n",
       "      <td>3537.0</td>\n",
       "      <td>3956.303265</td>\n",
       "    </tr>\n",
       "    <tr>\n",
       "      <th>Madhouse</th>\n",
       "      <td>3783.452261</td>\n",
       "      <td>2734.0</td>\n",
       "      <td>3495.940647</td>\n",
       "    </tr>\n",
       "    <tr>\n",
       "      <th>Xebec</th>\n",
       "      <td>3643.462687</td>\n",
       "      <td>2867.0</td>\n",
       "      <td>3119.716175</td>\n",
       "    </tr>\n",
       "    <tr>\n",
       "      <th>Production I.G</th>\n",
       "      <td>3399.453846</td>\n",
       "      <td>2426.5</td>\n",
       "      <td>3313.296537</td>\n",
       "    </tr>\n",
       "    <tr>\n",
       "      <th>Doga Kobo</th>\n",
       "      <td>3347.134615</td>\n",
       "      <td>1637.0</td>\n",
       "      <td>4138.352680</td>\n",
       "    </tr>\n",
       "    <tr>\n",
       "      <th>J.C.Staff</th>\n",
       "      <td>2852.598837</td>\n",
       "      <td>1707.5</td>\n",
       "      <td>2853.846668</td>\n",
       "    </tr>\n",
       "    <tr>\n",
       "      <th>Gonzo</th>\n",
       "      <td>2510.283784</td>\n",
       "      <td>1948.0</td>\n",
       "      <td>1837.887296</td>\n",
       "    </tr>\n",
       "    <tr>\n",
       "      <th>A-1 Pictures</th>\n",
       "      <td>1921.272727</td>\n",
       "      <td>1115.5</td>\n",
       "      <td>2629.138098</td>\n",
       "    </tr>\n",
       "    <tr>\n",
       "      <th>Shaft</th>\n",
       "      <td>1883.262295</td>\n",
       "      <td>1139.0</td>\n",
       "      <td>1945.466421</td>\n",
       "    </tr>\n",
       "    <tr>\n",
       "      <th>Kyoto Animation</th>\n",
       "      <td>1878.781818</td>\n",
       "      <td>697.0</td>\n",
       "      <td>2212.677067</td>\n",
       "    </tr>\n",
       "    <tr>\n",
       "      <th>Bones</th>\n",
       "      <td>1816.384615</td>\n",
       "      <td>1013.5</td>\n",
       "      <td>2055.643099</td>\n",
       "    </tr>\n",
       "    <tr>\n",
       "      <th>SILVER LINK.</th>\n",
       "      <td>1679.365385</td>\n",
       "      <td>1362.0</td>\n",
       "      <td>1277.023439</td>\n",
       "    </tr>\n",
       "  </tbody>\n",
       "</table>\n",
       "</div>"
      ],
      "text/plain": [
       "                        popularity                      \n",
       "                              mean   median          std\n",
       "studios                                                 \n",
       "DLE                   12191.628205  12808.0  3242.524025\n",
       "Shin-Ei Animation      9262.898438   8850.0  3713.773739\n",
       "Tatsunoko Production   8997.039216   9662.0  3765.696314\n",
       "Nippon Animation       8902.452703   9020.5  3278.468579\n",
       "Toei Animation         7809.132438   8233.0  4250.017699\n",
       "TMS Entertainment      6863.251429   5117.0  5101.514537\n",
       "OLM                    5966.314685   4959.0  3911.698827\n",
       "Sunrise                5538.826613   5212.5  3694.298632\n",
       "Studio Pierrot         5175.911765   4215.0  4322.115791\n",
       "Studio Deen            4686.864407   3537.0  3956.303265\n",
       "Madhouse               3783.452261   2734.0  3495.940647\n",
       "Xebec                  3643.462687   2867.0  3119.716175\n",
       "Production I.G         3399.453846   2426.5  3313.296537\n",
       "Doga Kobo              3347.134615   1637.0  4138.352680\n",
       "J.C.Staff              2852.598837   1707.5  2853.846668\n",
       "Gonzo                  2510.283784   1948.0  1837.887296\n",
       "A-1 Pictures           1921.272727   1115.5  2629.138098\n",
       "Shaft                  1883.262295   1139.0  1945.466421\n",
       "Kyoto Animation        1878.781818    697.0  2212.677067\n",
       "Bones                  1816.384615   1013.5  2055.643099\n",
       "SILVER LINK.           1679.365385   1362.0  1277.023439"
      ]
     },
     "execution_count": 94,
     "metadata": {},
     "output_type": "execute_result"
    }
   ],
   "source": [
    "mean_df = df_eda3.groupby(\"studios\").agg({\"popularity\": [\"mean\", \"median\", \"std\"]})\n",
    "mean_df = mean_df.sort_values((\"popularity\", \"mean\"), ascending=False)\n",
    "mean_df"
   ]
  },
  {
   "cell_type": "markdown",
   "metadata": {},
   "source": [
    "# Visualization \n",
    "Visualization through boxplot"
   ]
  },
  {
   "cell_type": "code",
   "execution_count": 95,
   "metadata": {},
   "outputs": [
    {
     "data": {
      "text/plain": [
       "<AxesSubplot:title={'center':'popularity'}, xlabel='studios'>"
      ]
     },
     "execution_count": 95,
     "metadata": {},
     "output_type": "execute_result"
    },
    {
     "data": {
      "image/png": "[encoded data removed]",
      "text/plain": [
       "<Figure size 1800x1080 with 1 Axes>"
      ]
     },
     "metadata": {
      "needs_background": "light"
     },
     "output_type": "display_data"
    }
   ],
   "source": [
    "df_eda3.boxplot(\"popularity\", by=\"studios\", figsize=(25,15))\n"
   ]
  },
  {
   "cell_type": "markdown",
   "metadata": {},
   "source": [
    "# Observation\n",
    "\n",
    "From the results, it can be seen that there is a big difference in the average popularities of anime produced between studios. It can also be observed that there is a big disparity and outliers between the popularities of the anime under a large number of the studios in the data set which could indicate other external factors affecting the popularity aside from the studio who made it. \n"
   ]
  },
  {
   "cell_type": "markdown",
   "metadata": {},
   "source": [
    "# Research Question\n",
    "\n",
    "1. Is there a significant difference between the `J.C. Staff` vs `Madhouse` in terms of their average popularity?\n",
    "\n",
    "    These 2 studios have been hailed has top 2 best Anime studios according to MyAnimeList. Since this dataset will be used for a recommendation system, testing the average popularity between the 2 can serve as another point of comparison that may help fans determine which studio is more well liked and generaly has more consistent quality in their shows.\n",
    "    \n",
    "    \n",
    "\n",
    "2. Is there a significant difference on the score classification (`eval`) between different age groups (`rating`)?\n",
    "\n",
    "    Since the dataset is intended to be used as a basis for a recommendation system, identifying whether there is a difference between the score classification (which will be represented as `eval`) of different age groups (`rating`) is important to know whether scores can be a good variable for recommending an anime from different age groups.\n"
   ]
  },
  {
   "cell_type": "markdown",
   "metadata": {},
   "source": [
    "# Statistical Inference"
   ]
  },
  {
   "cell_type": "markdown",
   "metadata": {},
   "source": [
    "For the first research question, we set up our hypotheses as follows:\n",
    "\n",
    "$H_0$ (null hypothesis): There is no significant difference between the average popularity of `J.C.Staff` and `Madhouse`\n",
    "\n",
    "$H_A$ (alternative hypothesis): There is a significant difference between the average popularity of `J.C.Staff` and `Madhouse`"
   ]
  },
  {
   "cell_type": "markdown",
   "metadata": {},
   "source": [
    "# Further Data Preprocessing\n",
    "Since we will be comparing popularities between the 2 studios, we can use the dataset used for EDA 3 and clean the data to fit this test\n",
    "\n",
    "\n",
    "Like EDA 3, observations with more than 1 studio will be removed since the focus is on each individual studio."
   ]
  },
  {
   "cell_type": "code",
   "execution_count": 96,
   "metadata": {},
   "outputs": [
    {
     "data": {
      "text/html": [
       "<div>\n",
       "<style scoped>\n",
       "    .dataframe tbody tr th:only-of-type {\n",
       "        vertical-align: middle;\n",
       "    }\n",
       "\n",
       "    .dataframe tbody tr th {\n",
       "        vertical-align: top;\n",
       "    }\n",
       "\n",
       "    .dataframe thead th {\n",
       "        text-align: right;\n",
       "    }\n",
       "</style>\n",
       "<table border=\"1\" class=\"dataframe\">\n",
       "  <thead>\n",
       "    <tr style=\"text-align: right;\">\n",
       "      <th></th>\n",
       "      <th>studios</th>\n",
       "      <th>popularity</th>\n",
       "    </tr>\n",
       "  </thead>\n",
       "  <tbody>\n",
       "    <tr>\n",
       "      <th>6</th>\n",
       "      <td>J.C.Staff</td>\n",
       "      <td>723</td>\n",
       "    </tr>\n",
       "    <tr>\n",
       "      <th>31</th>\n",
       "      <td>J.C.Staff</td>\n",
       "      <td>1536</td>\n",
       "    </tr>\n",
       "    <tr>\n",
       "      <th>44</th>\n",
       "      <td>J.C.Staff</td>\n",
       "      <td>583</td>\n",
       "    </tr>\n",
       "    <tr>\n",
       "      <th>112</th>\n",
       "      <td>J.C.Staff</td>\n",
       "      <td>1274</td>\n",
       "    </tr>\n",
       "    <tr>\n",
       "      <th>131</th>\n",
       "      <td>J.C.Staff</td>\n",
       "      <td>1150</td>\n",
       "    </tr>\n",
       "    <tr>\n",
       "      <th>...</th>\n",
       "      <td>...</td>\n",
       "      <td>...</td>\n",
       "    </tr>\n",
       "    <tr>\n",
       "      <th>7292</th>\n",
       "      <td>Madhouse</td>\n",
       "      <td>1040</td>\n",
       "    </tr>\n",
       "    <tr>\n",
       "      <th>7478</th>\n",
       "      <td>Madhouse</td>\n",
       "      <td>2116</td>\n",
       "    </tr>\n",
       "    <tr>\n",
       "      <th>7721</th>\n",
       "      <td>Madhouse</td>\n",
       "      <td>7752</td>\n",
       "    </tr>\n",
       "    <tr>\n",
       "      <th>8327</th>\n",
       "      <td>Madhouse</td>\n",
       "      <td>4715</td>\n",
       "    </tr>\n",
       "    <tr>\n",
       "      <th>8332</th>\n",
       "      <td>Madhouse</td>\n",
       "      <td>1801</td>\n",
       "    </tr>\n",
       "  </tbody>\n",
       "</table>\n",
       "<p>371 rows × 2 columns</p>\n",
       "</div>"
      ],
      "text/plain": [
       "        studios  popularity\n",
       "6     J.C.Staff         723\n",
       "31    J.C.Staff        1536\n",
       "44    J.C.Staff         583\n",
       "112   J.C.Staff        1274\n",
       "131   J.C.Staff        1150\n",
       "...         ...         ...\n",
       "7292   Madhouse        1040\n",
       "7478   Madhouse        2116\n",
       "7721   Madhouse        7752\n",
       "8327   Madhouse        4715\n",
       "8332   Madhouse        1801\n",
       "\n",
       "[371 rows x 2 columns]"
      ]
     },
     "execution_count": 96,
     "metadata": {},
     "output_type": "execute_result"
    }
   ],
   "source": [
    "df_jc = df_eda3.drop(df_eda3[df_eda3['studios'].str.contains(\"J.C.Staff\") ==  False].index)\n",
    "df_mad = df_eda3.drop(df_eda3[df_eda3['studios'].str.contains(\"Madhouse\") ==  False].index)\n",
    "df_jc = df_jc[['studios', 'popularity']]\n",
    "df_mad = df_mad[['studios','popularity']]\n",
    "df_res = pd.concat([df_jc, df_mad], axis=0)\n",
    "df_res"
   ]
  },
  {
   "cell_type": "markdown",
   "metadata": {},
   "source": [
    "Getting the Mean, Median, and std of the 2 studios"
   ]
  },
  {
   "cell_type": "code",
   "execution_count": 97,
   "metadata": {},
   "outputs": [
    {
     "data": {
      "text/html": [
       "<div>\n",
       "<style scoped>\n",
       "    .dataframe tbody tr th:only-of-type {\n",
       "        vertical-align: middle;\n",
       "    }\n",
       "\n",
       "    .dataframe tbody tr th {\n",
       "        vertical-align: top;\n",
       "    }\n",
       "\n",
       "    .dataframe thead tr th {\n",
       "        text-align: left;\n",
       "    }\n",
       "\n",
       "    .dataframe thead tr:last-of-type th {\n",
       "        text-align: right;\n",
       "    }\n",
       "</style>\n",
       "<table border=\"1\" class=\"dataframe\">\n",
       "  <thead>\n",
       "    <tr>\n",
       "      <th></th>\n",
       "      <th colspan=\"4\" halign=\"left\">popularity</th>\n",
       "    </tr>\n",
       "    <tr>\n",
       "      <th></th>\n",
       "      <th>mean</th>\n",
       "      <th>median</th>\n",
       "      <th>std</th>\n",
       "      <th>len</th>\n",
       "    </tr>\n",
       "    <tr>\n",
       "      <th>studios</th>\n",
       "      <th></th>\n",
       "      <th></th>\n",
       "      <th></th>\n",
       "      <th></th>\n",
       "    </tr>\n",
       "  </thead>\n",
       "  <tbody>\n",
       "    <tr>\n",
       "      <th>J.C.Staff</th>\n",
       "      <td>2852.598837</td>\n",
       "      <td>1707.5</td>\n",
       "      <td>2853.846668</td>\n",
       "      <td>172</td>\n",
       "    </tr>\n",
       "    <tr>\n",
       "      <th>Madhouse</th>\n",
       "      <td>3783.452261</td>\n",
       "      <td>2734.0</td>\n",
       "      <td>3495.940647</td>\n",
       "      <td>199</td>\n",
       "    </tr>\n",
       "  </tbody>\n",
       "</table>\n",
       "</div>"
      ],
      "text/plain": [
       "            popularity                          \n",
       "                  mean  median          std  len\n",
       "studios                                         \n",
       "J.C.Staff  2852.598837  1707.5  2853.846668  172\n",
       "Madhouse   3783.452261  2734.0  3495.940647  199"
      ]
     },
     "execution_count": 97,
     "metadata": {},
     "output_type": "execute_result"
    }
   ],
   "source": [
    "df_res_summary = df_res.groupby(\"studios\").agg({\"popularity\": [\"mean\", \"median\", \"std\", len]})\n",
    "df_res_summary"
   ]
  },
  {
   "cell_type": "markdown",
   "metadata": {},
   "source": [
    "As can be observed from the data above `Madhouse` has a higher average popularity across their anime portfolio compared to `J.C.Staff` but there is a need to determine whether this is statistically significant."
   ]
  },
  {
   "cell_type": "markdown",
   "metadata": {},
   "source": [
    "# T Test\n",
    "Since we will be comparing 2 Independent samples, T Test will be used."
   ]
  },
  {
   "cell_type": "code",
   "execution_count": 98,
   "metadata": {},
   "outputs": [
    {
     "data": {
      "text/plain": [
       "Ttest_indResult(statistic=-2.82249877983912, pvalue=0.0050240264039136985)"
      ]
     },
     "execution_count": 98,
     "metadata": {},
     "output_type": "execute_result"
    }
   ],
   "source": [
    "ttest_ind(df_res[df_res[\"studios\"] == \"J.C.Staff\"][\"popularity\"],\n",
    "          df_res[df_res[\"studios\"] == \"Madhouse\"][\"popularity\"],\n",
    "          equal_var = False)"
   ]
  },
  {
   "cell_type": "markdown",
   "metadata": {},
   "source": [
    "### Observations\n",
    "with the p-value at 0.005 we can say that:\n",
    "\n",
    "At a significance level of 1%, we will reject the null hypothesis and accept the alternative hypothesis which shows that there is indeed a significant difference between the average popularity of `J.C.Staff` and `Madhouse`.\n",
    "\n",
    "At a significance level of 5%, we will reject the null hypothesis and accept the alternative hypothesis which shows that there is indeed a significant difference between the average popularity of `J.C.Staff` and `Madhouse`.\n",
    "\n",
    "At a significance level of 10%, we will reject the null hypothesis and accept the alternative hypothesis which shows that there is indeed a significant difference between the average popularity of `J.C.Staff` and `Madhouse`.\n"
   ]
  },
  {
   "cell_type": "markdown",
   "metadata": {},
   "source": [
    "For the second research question, we set up our hypotheses as follows:\n",
    "\n",
    "$H_0$ (null hypothesis): There is no significant difference on the score classification (`eval`) between different age groups (`rating`). \n",
    "\n",
    "$H_A$ (alternative hypothesis): There is a significant difference on the score classification (`eval`) between different age groups (`rating`). "
   ]
  },
  {
   "cell_type": "markdown",
   "metadata": {},
   "source": [
    "## Further Data Preprocessing (Binning)\n",
    "\n",
    "Like what was mentioned above, a new column `eval` will be made to represent the scores in categorical terms. The instruction on transforming scores is as ff:\n",
    "\n",
    "- Very Good -   `8.000` to `10.000`\n",
    "- Good -        `6.000` to `7.999`\n",
    "- Fair -        `4.000` to `5.999`\n",
    "- Poor -        `2.000` to `3.999`\n",
    "- Very Poor -   `0.000` to `1.999`\n",
    "\n",
    "Below this is the function definition of the given instruction."
   ]
  },
  {
   "cell_type": "code",
   "execution_count": 99,
   "metadata": {},
   "outputs": [],
   "source": [
    "def f(x):\n",
    "    if (x > 0.00 and (x < 1.999)): \n",
    "        return 'Very Poor'\n",
    "    elif (x > 2.00 and (x < 3.999)): \n",
    "        return 'Poor'\n",
    "    elif (x > 4.00 and x < 5.999):\n",
    "        return 'Fair'\n",
    "    elif (x > 6.00 and x < 7.999):\n",
    "        return 'Good'\n",
    "    else: \n",
    "        return 'Very Good'\n"
   ]
  },
  {
   "cell_type": "code",
   "execution_count": 100,
   "metadata": {},
   "outputs": [
    {
     "data": {
      "text/html": [
       "<div>\n",
       "<style scoped>\n",
       "    .dataframe tbody tr th:only-of-type {\n",
       "        vertical-align: middle;\n",
       "    }\n",
       "\n",
       "    .dataframe tbody tr th {\n",
       "        vertical-align: top;\n",
       "    }\n",
       "\n",
       "    .dataframe thead th {\n",
       "        text-align: right;\n",
       "    }\n",
       "</style>\n",
       "<table border=\"1\" class=\"dataframe\">\n",
       "  <thead>\n",
       "    <tr style=\"text-align: right;\">\n",
       "      <th></th>\n",
       "      <th>score</th>\n",
       "      <th>rating</th>\n",
       "      <th>type</th>\n",
       "      <th>eval</th>\n",
       "    </tr>\n",
       "  </thead>\n",
       "  <tbody>\n",
       "    <tr>\n",
       "      <th>0</th>\n",
       "      <td>8.77</td>\n",
       "      <td>R - 17+ (violence &amp; profanity)</td>\n",
       "      <td>TV</td>\n",
       "      <td>Very Good</td>\n",
       "    </tr>\n",
       "    <tr>\n",
       "      <th>1</th>\n",
       "      <td>8.39</td>\n",
       "      <td>R - 17+ (violence &amp; profanity)</td>\n",
       "      <td>Movie</td>\n",
       "      <td>Very Good</td>\n",
       "    </tr>\n",
       "    <tr>\n",
       "      <th>2</th>\n",
       "      <td>8.23</td>\n",
       "      <td>PG-13 - Teens 13 or older</td>\n",
       "      <td>TV</td>\n",
       "      <td>Very Good</td>\n",
       "    </tr>\n",
       "    <tr>\n",
       "      <th>3</th>\n",
       "      <td>7.27</td>\n",
       "      <td>PG-13 - Teens 13 or older</td>\n",
       "      <td>TV</td>\n",
       "      <td>Good</td>\n",
       "    </tr>\n",
       "    <tr>\n",
       "      <th>4</th>\n",
       "      <td>6.97</td>\n",
       "      <td>PG - Children</td>\n",
       "      <td>TV</td>\n",
       "      <td>Good</td>\n",
       "    </tr>\n",
       "    <tr>\n",
       "      <th>...</th>\n",
       "      <td>...</td>\n",
       "      <td>...</td>\n",
       "      <td>...</td>\n",
       "      <td>...</td>\n",
       "    </tr>\n",
       "    <tr>\n",
       "      <th>8153</th>\n",
       "      <td>6.16</td>\n",
       "      <td>R - 17+ (violence &amp; profanity)</td>\n",
       "      <td>TV</td>\n",
       "      <td>Good</td>\n",
       "    </tr>\n",
       "    <tr>\n",
       "      <th>8156</th>\n",
       "      <td>6.17</td>\n",
       "      <td>PG-13 - Teens 13 or older</td>\n",
       "      <td>TV</td>\n",
       "      <td>Good</td>\n",
       "    </tr>\n",
       "    <tr>\n",
       "      <th>8158</th>\n",
       "      <td>6.97</td>\n",
       "      <td>PG-13 - Teens 13 or older</td>\n",
       "      <td>Movie</td>\n",
       "      <td>Good</td>\n",
       "    </tr>\n",
       "    <tr>\n",
       "      <th>8159</th>\n",
       "      <td>5.97</td>\n",
       "      <td>R+ - Mild Nudity</td>\n",
       "      <td>TV</td>\n",
       "      <td>Fair</td>\n",
       "    </tr>\n",
       "    <tr>\n",
       "      <th>8161</th>\n",
       "      <td>5.49</td>\n",
       "      <td>PG-13 - Teens 13 or older</td>\n",
       "      <td>TV</td>\n",
       "      <td>Fair</td>\n",
       "    </tr>\n",
       "  </tbody>\n",
       "</table>\n",
       "<p>5935 rows × 4 columns</p>\n",
       "</div>"
      ],
      "text/plain": [
       "      score                          rating   type       eval\n",
       "0      8.77  R - 17+ (violence & profanity)     TV  Very Good\n",
       "1      8.39  R - 17+ (violence & profanity)  Movie  Very Good\n",
       "2      8.23       PG-13 - Teens 13 or older     TV  Very Good\n",
       "3      7.27       PG-13 - Teens 13 or older     TV       Good\n",
       "4      6.97                   PG - Children     TV       Good\n",
       "...     ...                             ...    ...        ...\n",
       "8153   6.16  R - 17+ (violence & profanity)     TV       Good\n",
       "8156   6.17       PG-13 - Teens 13 or older     TV       Good\n",
       "8158   6.97       PG-13 - Teens 13 or older  Movie       Good\n",
       "8159   5.97                R+ - Mild Nudity     TV       Fair\n",
       "8161   5.49       PG-13 - Teens 13 or older     TV       Fair\n",
       "\n",
       "[5935 rows x 4 columns]"
      ]
     },
     "execution_count": 100,
     "metadata": {},
     "output_type": "execute_result"
    }
   ],
   "source": [
    "#Copying the Data\n",
    "df_res1 = df_cleaned[['score', 'rating', 'type']]\n",
    "df_res1 = df_res1.drop(df_res1[df_res1['score'] == -1.00].index)\n",
    "df_res1 = df_res1.drop(df_res1[df_res1['rating'] == 'None'].index)\n",
    "\n",
    "# Binning the scores\n",
    "df_res1['eval'] = df_res1['score'].apply(f)\n",
    "df_res1\n"
   ]
  },
  {
   "cell_type": "code",
   "execution_count": 101,
   "metadata": {},
   "outputs": [
    {
     "data": {
      "text/plain": [
       "rating                          eval     \n",
       "G - All Ages                    Good          821\n",
       "                                Fair          508\n",
       "                                Very Good      24\n",
       "                                Poor            1\n",
       "PG - Children                   Good          491\n",
       "                                Fair           98\n",
       "                                Very Good       9\n",
       "                                Poor            1\n",
       "PG-13 - Teens 13 or older       Good         2307\n",
       "                                Fair          324\n",
       "                                Very Good     294\n",
       "                                Poor           11\n",
       "R - 17+ (violence & profanity)  Good          490\n",
       "                                Very Good     118\n",
       "                                Fair           50\n",
       "                                Poor            2\n",
       "R+ - Mild Nudity                Good          273\n",
       "                                Fair           78\n",
       "                                Very Good      18\n",
       "                                Poor           11\n",
       "Rx - Hentai                     Fair            4\n",
       "                                Good            2\n",
       "Name: eval, dtype: int64"
      ]
     },
     "execution_count": 101,
     "metadata": {},
     "output_type": "execute_result"
    }
   ],
   "source": [
    "counts = df_res1.groupby('rating')['eval'].value_counts()\n",
    "counts"
   ]
  },
  {
   "cell_type": "code",
   "execution_count": 102,
   "metadata": {},
   "outputs": [
    {
     "data": {
      "text/html": [
       "<div>\n",
       "<style scoped>\n",
       "    .dataframe tbody tr th:only-of-type {\n",
       "        vertical-align: middle;\n",
       "    }\n",
       "\n",
       "    .dataframe tbody tr th {\n",
       "        vertical-align: top;\n",
       "    }\n",
       "\n",
       "    .dataframe thead th {\n",
       "        text-align: right;\n",
       "    }\n",
       "</style>\n",
       "<table border=\"1\" class=\"dataframe\">\n",
       "  <thead>\n",
       "    <tr style=\"text-align: right;\">\n",
       "      <th></th>\n",
       "      <th>G - All Ages</th>\n",
       "      <th>PG - Children</th>\n",
       "      <th>PG-13 - Teens 13 or older</th>\n",
       "      <th>R - 17+ (violence &amp; profanity)</th>\n",
       "      <th>R+ - Mild Nudity</th>\n",
       "      <th>Rx - Hentai</th>\n",
       "    </tr>\n",
       "    <tr>\n",
       "      <th>eval</th>\n",
       "      <th></th>\n",
       "      <th></th>\n",
       "      <th></th>\n",
       "      <th></th>\n",
       "      <th></th>\n",
       "      <th></th>\n",
       "    </tr>\n",
       "  </thead>\n",
       "  <tbody>\n",
       "    <tr>\n",
       "      <th>Good</th>\n",
       "      <td>821</td>\n",
       "      <td>491</td>\n",
       "      <td>2307</td>\n",
       "      <td>490</td>\n",
       "      <td>273</td>\n",
       "      <td>2.0</td>\n",
       "    </tr>\n",
       "    <tr>\n",
       "      <th>Fair</th>\n",
       "      <td>508</td>\n",
       "      <td>98</td>\n",
       "      <td>324</td>\n",
       "      <td>50</td>\n",
       "      <td>78</td>\n",
       "      <td>4.0</td>\n",
       "    </tr>\n",
       "    <tr>\n",
       "      <th>Very Good</th>\n",
       "      <td>24</td>\n",
       "      <td>9</td>\n",
       "      <td>294</td>\n",
       "      <td>118</td>\n",
       "      <td>18</td>\n",
       "      <td>NaN</td>\n",
       "    </tr>\n",
       "    <tr>\n",
       "      <th>Poor</th>\n",
       "      <td>1</td>\n",
       "      <td>1</td>\n",
       "      <td>11</td>\n",
       "      <td>2</td>\n",
       "      <td>11</td>\n",
       "      <td>NaN</td>\n",
       "    </tr>\n",
       "  </tbody>\n",
       "</table>\n",
       "</div>"
      ],
      "text/plain": [
       "           G - All Ages  PG - Children  PG-13 - Teens 13 or older  \\\n",
       "eval                                                                \n",
       "Good                821            491                       2307   \n",
       "Fair                508             98                        324   \n",
       "Very Good            24              9                        294   \n",
       "Poor                  1              1                         11   \n",
       "\n",
       "           R - 17+ (violence & profanity)  R+ - Mild Nudity  Rx - Hentai  \n",
       "eval                                                                      \n",
       "Good                                  490               273          2.0  \n",
       "Fair                                   50                78          4.0  \n",
       "Very Good                             118                18          NaN  \n",
       "Poor                                    2                11          NaN  "
      ]
     },
     "execution_count": 102,
     "metadata": {},
     "output_type": "execute_result"
    }
   ],
   "source": [
    "table1 = pd.DataFrame([counts['G - All Ages'], counts['PG - Children'], counts['PG-13 - Teens 13 or older'], counts['R - 17+ (violence & profanity)'], counts['R+ - Mild Nudity'], counts['Rx - Hentai']], index=[\"G - All Ages\", \"PG - Children\", 'PG-13 - Teens 13 or older', 'R - 17+ (violence & profanity)', 'R+ - Mild Nudity', 'Rx - Hentai']).transpose()\n",
    "\n",
    "table1['G - All Ages'] = table1['G - All Ages'].astype(int)\n",
    "table1['PG - Children'] = table1['PG - Children'].astype(int)\n",
    "table1['PG-13 - Teens 13 or older'] = table1['PG-13 - Teens 13 or older'].astype(int)\n",
    "table1['R - 17+ (violence & profanity)'] = table1['R - 17+ (violence & profanity)'].astype(int)\n",
    "table1['R+ - Mild Nudity'] = table1['R+ - Mild Nudity'].astype(int)\n",
    "\n",
    "table1"
   ]
  },
  {
   "cell_type": "markdown",
   "metadata": {},
   "source": [
    "Since there is no data for the `Rx - Hentai` rating for the `TV` type anime, we will be dropping this column."
   ]
  },
  {
   "cell_type": "code",
   "execution_count": 103,
   "metadata": {},
   "outputs": [
    {
     "data": {
      "text/html": [
       "<div>\n",
       "<style scoped>\n",
       "    .dataframe tbody tr th:only-of-type {\n",
       "        vertical-align: middle;\n",
       "    }\n",
       "\n",
       "    .dataframe tbody tr th {\n",
       "        vertical-align: top;\n",
       "    }\n",
       "\n",
       "    .dataframe thead th {\n",
       "        text-align: right;\n",
       "    }\n",
       "</style>\n",
       "<table border=\"1\" class=\"dataframe\">\n",
       "  <thead>\n",
       "    <tr style=\"text-align: right;\">\n",
       "      <th></th>\n",
       "      <th>G - All Ages</th>\n",
       "      <th>PG - Children</th>\n",
       "      <th>PG-13 - Teens 13 or older</th>\n",
       "      <th>R - 17+ (violence &amp; profanity)</th>\n",
       "      <th>R+ - Mild Nudity</th>\n",
       "    </tr>\n",
       "    <tr>\n",
       "      <th>eval</th>\n",
       "      <th></th>\n",
       "      <th></th>\n",
       "      <th></th>\n",
       "      <th></th>\n",
       "      <th></th>\n",
       "    </tr>\n",
       "  </thead>\n",
       "  <tbody>\n",
       "    <tr>\n",
       "      <th>Good</th>\n",
       "      <td>821</td>\n",
       "      <td>491</td>\n",
       "      <td>2307</td>\n",
       "      <td>490</td>\n",
       "      <td>273</td>\n",
       "    </tr>\n",
       "    <tr>\n",
       "      <th>Fair</th>\n",
       "      <td>508</td>\n",
       "      <td>98</td>\n",
       "      <td>324</td>\n",
       "      <td>50</td>\n",
       "      <td>78</td>\n",
       "    </tr>\n",
       "    <tr>\n",
       "      <th>Very Good</th>\n",
       "      <td>24</td>\n",
       "      <td>9</td>\n",
       "      <td>294</td>\n",
       "      <td>118</td>\n",
       "      <td>18</td>\n",
       "    </tr>\n",
       "    <tr>\n",
       "      <th>Poor</th>\n",
       "      <td>1</td>\n",
       "      <td>1</td>\n",
       "      <td>11</td>\n",
       "      <td>2</td>\n",
       "      <td>11</td>\n",
       "    </tr>\n",
       "  </tbody>\n",
       "</table>\n",
       "</div>"
      ],
      "text/plain": [
       "           G - All Ages  PG - Children  PG-13 - Teens 13 or older  \\\n",
       "eval                                                                \n",
       "Good                821            491                       2307   \n",
       "Fair                508             98                        324   \n",
       "Very Good            24              9                        294   \n",
       "Poor                  1              1                         11   \n",
       "\n",
       "           R - 17+ (violence & profanity)  R+ - Mild Nudity  \n",
       "eval                                                         \n",
       "Good                                  490               273  \n",
       "Fair                                   50                78  \n",
       "Very Good                             118                18  \n",
       "Poor                                    2                11  "
      ]
     },
     "execution_count": 103,
     "metadata": {},
     "output_type": "execute_result"
    }
   ],
   "source": [
    "table1 = table1.drop(columns=\"Rx - Hentai\")\n",
    "table1"
   ]
  },
  {
   "cell_type": "markdown",
   "metadata": {},
   "source": [
    "## Chi Test\n",
    "\n",
    "Now we make use of the scipy's premade chi-test function to test our hypothesis."
   ]
  },
  {
   "cell_type": "code",
   "execution_count": 104,
   "metadata": {},
   "outputs": [
    {
     "data": {
      "text/plain": [
       "(717.876233739395,\n",
       " 6.563691515445982e-146,\n",
       " 12,\n",
       " array([[1.00071311e+03, 4.42708383e+02, 2.16993625e+03, 4.87792208e+02,\n",
       "         2.80850059e+02],\n",
       "        [2.41614438e+02, 1.06888514e+02, 5.23914319e+02, 1.17773655e+02,\n",
       "         6.78090740e+01],\n",
       "        [1.05734863e+02, 4.67763535e+01, 2.29274414e+02, 5.15398887e+01,\n",
       "         2.96744814e+01],\n",
       "        [5.93759487e+00, 2.62674987e+00, 1.28750211e+01, 2.89424861e+00,\n",
       "         1.66638556e+00]]))"
      ]
     },
     "execution_count": 104,
     "metadata": {},
     "output_type": "execute_result"
    }
   ],
   "source": [
    "sp.chi2_contingency(table1)"
   ]
  },
  {
   "cell_type": "markdown",
   "metadata": {},
   "source": [
    "### Observation\n",
    "\n",
    "One initial observation that we can see is that there was no score between the `Very Poor` score classification. Interpreting the obtained p - value, `6.564` x `10`<sup>`-146`</sup>,  from the chi test, we can assure that we should reject the null hypothesis and instead, accept the alternative hypothesis that there is a significant difference on the score classification (`eval`) between different age groups (`rating`). "
   ]
  },
  {
   "cell_type": "code",
   "execution_count": null,
   "metadata": {},
   "outputs": [],
   "source": []
  },
  {
   "cell_type": "markdown",
   "metadata": {},
   "source": [
    "# Inference and Conclusion\n",
    "\n",
    "dito Sharlin"
   ]
  },
  {
   "cell_type": "markdown",
   "metadata": {},
   "source": []
  }
 ],
 "metadata": {
  "interpreter": {
   "hash": "dca0ade3e726a953b501b15e8e990130d2b7799f14cfd9f4271676035ebe5511"
  },
  "kernelspec": {
   "display_name": "Python 3",
   "language": "python",
   "name": "python3"
  },
  "language_info": {
   "codemirror_mode": {
    "name": "ipython",
    "version": 3
   },
   "file_extension": ".py",
   "mimetype": "text/x-python",
   "name": "python",
   "nbconvert_exporter": "python",
   "pygments_lexer": "ipython3",
   "version": "3.8.8"
  }
 },
 "nbformat": 4,
 "nbformat_minor": 4
}
